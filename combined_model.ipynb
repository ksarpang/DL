{
 "cells": [
  {
   "cell_type": "code",
   "execution_count": 1,
   "metadata": {},
   "outputs": [
    {
     "name": "stdout",
     "output_type": "stream",
     "text": [
      "done\n"
     ]
    }
   ],
   "source": [
    "# data load\n",
    "import pprint as pp\n",
    "import pandas as pd\n",
    "\n",
    "# line 727/728 of train is broken, need new line\n",
    "# valid_df = pd.read_csv('data/valid/data1.csv')\n",
    "# train_df = pd.read_csv('data/train/data_7000_new.csv', header=None)\n",
    "\n",
    "# TRAIN_MODE = True\n",
    "TRAIN_MODE = False\n",
    "TRAIN_LIMIT = 20\n",
    "BATCH_SIZE = 25\n",
    "EPOCHS = 10\n",
    "\n",
    "def load(path: str) -> list:\n",
    "    data = []\n",
    "    with open(path) as reader:\n",
    "        for i, line in enumerate(reader):\n",
    "            splits = line.replace('\\n', '').split(',')\n",
    "            data.append(splits)\n",
    "    return data\n",
    "\n",
    "\n",
    "valid_df = pd.DataFrame(data=load('data/valid/data1.csv')[1:])\n",
    "train_df = pd.DataFrame(data=load('data/train/data_7000_new.csv'))\n",
    "\n",
    "def show_scales():\n",
    "    for i in range(4, 9):\n",
    "        pp.pprint(pd.concat([\n",
    "            train_df[train_df.columns[i]],\n",
    "            valid_df[valid_df.columns[i]]\n",
    "        ]))\n",
    "\n",
    "# show_scales()\n",
    "\n",
    "funny = {\n",
    "    'hilarious': 3,\n",
    "    'very_funny': 2,\n",
    "    'funny': 1,\n",
    "    'not_funny': 0\n",
    "}\n",
    "\n",
    "sarcasm = {\n",
    "    'general': 1,\n",
    "    'not_sarcastic': 0,\n",
    "    'twisted_meaning': 2,\n",
    "    'very_twisted': 3\n",
    "}\n",
    "\n",
    "offensive = {\n",
    "    'hateful_offensive': 3,\n",
    "    'very_offensive': 2,\n",
    "    'slight': 1,\n",
    "    'not_offensive': 0,\n",
    "}\n",
    "\n",
    "motivation = {\n",
    "    'motivational': 1,\n",
    "    'not_motivational': 0}\n",
    "\n",
    "sentiment = {\n",
    "    'very_positive': 4,\n",
    "    'positive': 3,\n",
    "    'neutral': 2,\n",
    "    'negative': 1,\n",
    "    'very_negative': 0}\n",
    "print(\"done\")"
   ]
  },
  {
   "cell_type": "code",
   "execution_count": 2,
   "metadata": {},
   "outputs": [],
   "source": [
    "import re\n",
    "sentences2=[sent for sent in train_df[3]]\n",
    "sent2_val=[sent for sent in valid_df[2]]\n",
    "\n",
    "cleaned_sent=[]\n",
    "cleaned_sent_val=[]\n",
    "\n",
    "for s in sentences2:\n",
    "    k=re.search(r'\\d{1,2}:\\d{2} (AM|PM)', s)\n",
    "    if k is not None:\n",
    "        ind=k.span()[0]\n",
    "        new_cleaned_s=s[0:ind]\n",
    "        cleaned_sent.append(new_cleaned_s)\n",
    "    else:\n",
    "        cleaned_sent.append(s)\n",
    "\n",
    "for s in sent2_val:\n",
    "    k=re.search(r'\\d{1,2}:\\d{2} (AM|PM)', s)\n",
    "    if k is not None:\n",
    "        ind=k.span()[0]\n",
    "        new_cleaned_s=s[0:ind]\n",
    "        cleaned_sent_val.append(new_cleaned_s)\n",
    "    else:\n",
    "        cleaned_sent_val.append(s)\n",
    "\n"
   ]
  },
  {
   "cell_type": "code",
   "execution_count": 3,
   "metadata": {},
   "outputs": [
    {
     "name": "stdout",
     "output_type": "stream",
     "text": [
      "7000\n",
      "1000\n"
     ]
    }
   ],
   "source": [
    "labels=[sentiment[label] for label in train_df[8]]\n",
    "labels_val=[sentiment[label] for label in valid_df[8]]\n",
    "print(len(labels))\n",
    "print(len(labels_val))\n"
   ]
  },
  {
   "cell_type": "code",
   "execution_count": 4,
   "metadata": {},
   "outputs": [],
   "source": [
    "import preprocessor as p\n",
    "cleaned_2=[]\n",
    "cleaned_val=[]\n",
    "for doc in cleaned_sent:\n",
    "    p.set_options(p.OPT.URL, p.OPT.MENTION, p.OPT.RESERVED, p.OPT.NUMBER)\n",
    "    cleaned_tweet=p.clean(doc)\n",
    "    cleaned_2.append(cleaned_tweet)\n",
    "    \n",
    "for doc in cleaned_sent_val:\n",
    "    p.set_options(p.OPT.URL, p.OPT.MENTION, p.OPT.RESERVED, p.OPT.NUMBER)\n",
    "    cleaned_tweet=p.clean(doc)\n",
    "    cleaned_val.append(cleaned_tweet)\n",
    "    \n",
    "    "
   ]
  },
  {
   "cell_type": "code",
   "execution_count": 5,
   "metadata": {},
   "outputs": [],
   "source": [
    "import string\n",
    "from nltk.tokenize import word_tokenize\n",
    "from collections import Counter\n",
    "from nltk.corpus import stopwords\n",
    "\n",
    "stop_words=set(stopwords.words('english'))\n",
    "words_clean=[]\n",
    "words_clean_val=[]\n",
    "for doc in cleaned_2:\n",
    "    #to remove punctuation using puncutation marks defined in the string library\n",
    "    doc_clean=doc.translate(str.maketrans('','', string.punctuation))\n",
    "    #to remove numbers\n",
    "    doc_clean=doc_clean.translate(str.maketrans('','', '0123456789'))\n",
    "    #tokenize the reviews using nltk library and make them lowercase\n",
    "    wordlist=word_tokenize(doc_clean.lower())\n",
    "    new_word_list=[]\n",
    "    for word in wordlist:\n",
    "        if word not in stop_words:\n",
    "            new_word_list.append(word)\n",
    "    words_clean.append(new_word_list)\n",
    "    \n",
    "for doc in cleaned_val:\n",
    "    #to remove punctuation using puncutation marks defined in the string library\n",
    "    doc_clean=doc.translate(str.maketrans('','', string.punctuation))\n",
    "    #to remove numbers\n",
    "    doc_clean=doc_clean.translate(str.maketrans('','', '0123456789'))\n",
    "    #tokenize the reviews using nltk library and make them lowercase\n",
    "    wordlist=word_tokenize(doc_clean.lower())\n",
    "    new_word_list=[]\n",
    "    for word in wordlist:\n",
    "        if word not in stop_words:\n",
    "            new_word_list.append(word)\n",
    "    words_clean_val.append(new_word_list)\n"
   ]
  },
  {
   "cell_type": "code",
   "execution_count": 6,
   "metadata": {},
   "outputs": [],
   "source": [
    "import torch\n",
    "import torch.nn.functional as F\n",
    "from torch import nn\n",
    "from torch.autograd import Variable"
   ]
  },
  {
   "cell_type": "code",
   "execution_count": 14,
   "metadata": {},
   "outputs": [],
   "source": [
    "input_embedding_size=50\n",
    "hidden_size=50\n",
    "output_size=5\n",
    "sequence_length=19\n",
    "# my_input.view(1, 1, -1)\n",
    "my_lstm=nn.LSTM(input_embedding_size,hidden_size,sequence_length)\n",
    "my_dense=nn.Linear(hidden_size,output_size)\n",
    "# lstm_model=MyLSTM(embedding_size, hidden_size,output_size)\n",
    "my_lstm.cuda()\n",
    "my_dense.cuda()"
   ]
  },
  {
   "cell_type": "code",
   "execution_count": 7,
   "metadata": {},
   "outputs": [
    {
     "name": "stdout",
     "output_type": "stream",
     "text": [
      "done\n"
     ]
    }
   ],
   "source": [
    "import pickle as p\n",
    "import os\n",
    "\n",
    "weights_matrix = p.load(open('27B.50_weightMatrix.pkl', 'rb'))\n",
    "weight_indcs = p.load(open('27B.50_weight_indexes.pkl', 'rb'))\n",
    "print(\"done\")"
   ]
  },
  {
   "cell_type": "code",
   "execution_count": 8,
   "metadata": {},
   "outputs": [],
   "source": [
    "%matplotlib inline\n",
    "import matplotlib.pyplot as plt\n",
    "plt.switch_backend('agg')\n",
    "import matplotlib.ticker as ticker\n",
    "# import numpy as np\n",
    "\n",
    "def showPlot(points):\n",
    "    plt.figure()\n",
    "    fig, ax = plt.subplots()\n",
    "    # this locator puts ticks at regular intervals\n",
    "    loc = ticker.MultipleLocator(base=0.2)\n",
    "    ax.yaxis.set_major_locator(loc)\n",
    "    plt.plot(points)"
   ]
  },
  {
   "cell_type": "code",
   "execution_count": 11,
   "metadata": {},
   "outputs": [
    {
     "name": "stdout",
     "output_type": "stream",
     "text": [
      "in epoch 0 print 1.5928561823708671\n",
      "in epoch 1 print 1.5864587324006216\n",
      "in epoch 2 print 1.5797807438032967\n",
      "in epoch 3 print 1.5728384256362915\n",
      "in epoch 4 print 1.564989425454821\n",
      "in epoch 5 print 1.5566550697599137\n",
      "in epoch 6 print 1.5469237157276698\n",
      "in epoch 7 print 1.5335921577044895\n",
      "in epoch 8 print 1.5100776978901453\n",
      "in epoch 9 print 1.4620765243257796\n",
      "in epoch 10 print 1.3944042682647706\n",
      "in epoch 11 print 1.3441611613546098\n",
      "in epoch 12 print 1.3193742547716414\n",
      "in epoch 13 print 1.3075054219790867\n",
      "in epoch 14 print 1.2947518059185572\n",
      "in epoch 15 print 1.2907005173819406\n",
      "in epoch 16 print 1.2876221997397286\n",
      "in epoch 17 print 1.2811662588800703\n",
      "in epoch 18 print 1.2788736019815719\n",
      "in epoch 19 print 1.277638510295323\n",
      "in epoch 20 print 1.275735170500619\n",
      "in epoch 21 print 1.275517267840249\n",
      "in epoch 22 print 1.274257571356637\n",
      "in epoch 23 print 1.2753913385527476\n",
      "in epoch 24 print 1.2724837354251317\n",
      "in epoch 25 print 1.2751365661621095\n",
      "in epoch 26 print 1.2702319315501622\n",
      "in epoch 27 print 1.270321229525975\n",
      "in epoch 28 print 1.2711943864822388\n",
      "in epoch 29 print 1.274071627003806\n",
      "in epoch 30 print 1.2739943044526236\n",
      "in epoch 31 print 1.2725081426756724\n",
      "in epoch 32 print 1.2695867214884078\n",
      "in epoch 33 print 1.269004281929561\n",
      "in epoch 34 print 1.2746823957988194\n",
      "in epoch 35 print 1.2720513922827585\n",
      "in epoch 36 print 1.269782543182373\n",
      "in epoch 37 print 1.2740621192114694\n",
      "in epoch 38 print 1.2697563699313572\n",
      "in epoch 39 print 1.270279460293906\n",
      "in epoch 40 print 1.2696562511580332\n",
      "in epoch 41 print 1.2678420169012887\n",
      "in epoch 42 print 1.2724829196929932\n",
      "in epoch 43 print 1.2691207698413305\n",
      "in epoch 44 print 1.2716744422912598\n",
      "in epoch 45 print 1.2748947313853674\n",
      "in epoch 46 print 1.2706150310380118\n",
      "in epoch 47 print 1.2676948956080845\n",
      "in epoch 48 print 1.2703497971807207\n",
      "in epoch 49 print 1.270964138848441\n",
      "in epoch 50 print 1.268517734323229\n",
      "in epoch 51 print 1.2702443718910217\n",
      "in epoch 52 print 1.2705187899725778\n",
      "in epoch 53 print 1.2714250768933977\n",
      "in epoch 54 print 1.2724216563361033\n",
      "in epoch 55 print 1.2723391618047442\n",
      "in epoch 56 print 1.2712593402181354\n",
      "in epoch 57 print 1.2692593267985752\n",
      "in epoch 58 print 1.2724254505974906\n",
      "in epoch 59 print 1.269283858367375\n",
      "in epoch 60 print 1.26930787222726\n",
      "in epoch 61 print 1.2690698674746923\n",
      "in epoch 62 print 1.2734312585421972\n",
      "in epoch 63 print 1.271477334839957\n",
      "in epoch 64 print 1.2694550139563425\n",
      "in epoch 65 print 1.2735130940164838\n",
      "in epoch 66 print 1.2749159898076738\n",
      "in epoch 67 print 1.2740338172231402\n",
      "in epoch 68 print 1.2688986165182932\n",
      "in epoch 69 print 1.268820435660226\n",
      "in epoch 70 print 1.273249912261963\n",
      "in epoch 71 print 1.2694343124117171\n",
      "in epoch 72 print 1.2727534464427404\n",
      "in epoch 73 print 1.2681776302201406\n",
      "in epoch 74 print 1.2714815037591116\n"
     ]
    },
    {
     "data": {
      "text/plain": [
       "<Figure size 432x288 with 0 Axes>"
      ]
     },
     "metadata": {},
     "output_type": "display_data"
    },
    {
     "data": {
      "image/png": "[encoded data removed]",
      "text/plain": [
       "<Figure size 432x288 with 1 Axes>"
      ]
     },
     "metadata": {
      "needs_background": "light"
     },
     "output_type": "display_data"
    }
   ],
   "source": [
    "learning_rate=0.00001\n",
    "optim = torch.optim.Adam(list(my_dense.parameters())+list(my_lstm.parameters()), lr=learning_rate)\n",
    "criterion = nn.CrossEntropyLoss().cuda()\n",
    "num_of_epochs=75\n",
    "batch_size=100\n",
    "steps=len(words_clean)//batch_size\n",
    "gold=Variable(torch.FloatTensor(labels)).cuda()\n",
    "print_every=10\n",
    "plot_every=10\n",
    "# lr_decay=50\n",
    "plot_losses = []\n",
    "for epoch in range(num_of_epochs):\n",
    "#     if epoch %lr_decay==0 and epoch>0:\n",
    "#         learning_rate=learning_rate/10\n",
    "#         optim = torch.optim.Adam(list(my_dense.parameters())+list(my_lstm.parameters()), lr=learning_rate)\n",
    "    epoch_loss=0.0\n",
    "    cnt=0\n",
    "    print_loss_total = 0  # Reset every print_every\n",
    "    plot_loss_total = 0  # Reset every plot_every\n",
    "    epoch_loss=0\n",
    "    \n",
    "    shuffled_indcs=torch.randperm(len(words_clean))\n",
    "    num=0\n",
    "    for s in range(steps):\n",
    "        optim.zero_grad()\n",
    "        input_to_lstm=Variable(torch.zeros(sequence_length,batch_size,input_embedding_size)).cuda()\n",
    "        gold_batch=Variable(torch.zeros(batch_size).long()).cuda()\n",
    "        i=0\n",
    "        \n",
    "        while i<batch_size:\n",
    "            if num==len(words_clean):\n",
    "                num=0\n",
    "            if len(words_clean[shuffled_indcs[num]])<sequence_length:\n",
    "                for j in range( len(words_clean[shuffled_indcs[num]])):\n",
    "                    if words_clean[shuffled_indcs[num].item()][j] in weight_indcs:\n",
    "                        ind=weight_indcs[words_clean[shuffled_indcs[num].item()][j]]\n",
    "                        input_to_lstm[j,i,:]=(torch.cuda.FloatTensor(weights_matrix[ind]))\n",
    "                        \n",
    "                gold_batch[i]=gold[shuffled_indcs[num]]\n",
    "                i +=1\n",
    "            num+=1\n",
    "\n",
    "        hidden_sequence=my_lstm(input_to_lstm)\n",
    "        preds=my_dense(hidden_sequence[0][sequence_length-1])\n",
    "        loss = criterion(preds,gold_batch).cuda()\n",
    "        print_loss_total += loss.item()\n",
    "        plot_loss_total += loss.item()\n",
    "        cnt+=1\n",
    "        epoch_loss += loss.item()\n",
    "        \n",
    "        loss.backward()\n",
    "        optim.step()\n",
    "        \n",
    "        \n",
    "#         if s % print_every == 0:\n",
    "#             print_loss_avg = print_loss_total / cnt\n",
    "#             print_loss_total = 0\n",
    "#             print(\"iter:\",s,\"loss:\", print_loss_avg)\n",
    "\n",
    "        if s % plot_every == 0:\n",
    "            plot_loss_avg = plot_loss_total / cnt\n",
    "            plot_losses.append(plot_loss_avg)\n",
    "            plot_loss_total = 0\n",
    "            cnt=0\n",
    "    print(\"in epoch\", epoch, \"print\", epoch_loss/steps)\n",
    "showPlot(plot_losses)\n",
    "\n"
   ]
  },
  {
   "cell_type": "code",
   "execution_count": 13,
   "metadata": {},
   "outputs": [
    {
     "name": "stdout",
     "output_type": "stream",
     "text": [
      "accuracy =  0.445\n"
     ]
    }
   ],
   "source": [
    "#validation\n",
    "l=len(words_clean_val)\n",
    "gold_val=Variable(torch.FloatTensor(labels_val)).cuda()\n",
    "input_to_lstm=Variable(torch.zeros(sequence_length,l,input_embedding_size)).cuda()\n",
    "gold_batch=Variable(torch.zeros(l).long()).cuda()\n",
    "for i in range(l):\n",
    "            \n",
    "    if len(words_clean_val[i])<sequence_length:\n",
    "        for j in range(len(words_clean_val[i])):\n",
    "            if words_clean_val[i][j] in weight_indcs:\n",
    "                ind=weight_indcs[words_clean_val[i][j]]\n",
    "                input_to_lstm[j,i,:]=(torch.cuda.FloatTensor(weights_matrix[ind]))\n",
    "\n",
    "        gold_batch[i]=gold_val[i]\n",
    "\n",
    "hidden_sequence=my_lstm(input_to_lstm)\n",
    "preds=my_dense(hidden_sequence[0][sequence_length-1])\n",
    "\n",
    "acc=0\n",
    "for i in range(l):\n",
    "#     print(\"pred:\",preds[i].topk(1).indices.item(),\"label:\", int(gold_val[i].item()))\n",
    "    \n",
    "#     print('\\n')\n",
    "    if preds[i].topk(1).indices.item()==int(gold_val[i].item()):\n",
    "        acc +=1\n",
    "print(\"accuracy = \", acc/l)"
   ]
  },
  {
   "cell_type": "markdown",
   "metadata": {},
   "source": [
    "# CNN"
   ]
  },
  {
   "cell_type": "code",
   "execution_count": 9,
   "metadata": {},
   "outputs": [
    {
     "data": {
      "text/plain": [
       "tensor([[[-1.7925, -0.6623,  1.9064,  ...,  2.2489,  2.2489,  2.2489],\n",
       "         [-1.4843,  0.8447,  2.2318,  ...,  2.2318,  2.2318,  2.2318],\n",
       "         [ 0.7419,  2.2318,  2.2318,  ...,  2.2318,  2.2318,  2.2318],\n",
       "         ...,\n",
       "         [ 2.1804,  2.1804,  2.1804,  ...,  1.8550,  1.8893,  1.9235],\n",
       "         [ 2.1804,  2.1804,  2.1804,  ...,  1.9578,  1.9578,  1.9749],\n",
       "         [ 2.1804,  2.1804,  2.1804,  ...,  2.0092,  2.0263,  2.0263]],\n",
       "\n",
       "        [[-1.7031, -0.5476,  2.0784,  ...,  2.4286,  2.4286,  2.4286],\n",
       "         [-1.3880,  0.9930,  2.4111,  ...,  2.4111,  2.4111,  2.4111],\n",
       "         [ 0.8880,  2.4111,  2.4111,  ...,  2.4111,  2.4111,  2.4111],\n",
       "         ...,\n",
       "         [ 2.3585,  2.3585,  2.3585,  ...,  2.0259,  2.0609,  2.0959],\n",
       "         [ 2.3585,  2.3585,  2.3585,  ...,  2.1310,  2.1310,  2.1485],\n",
       "         [ 2.3585,  2.3585,  2.3585,  ...,  2.1835,  2.2010,  2.2010]],\n",
       "\n",
       "        [[-1.4733, -0.3230,  2.2914,  ...,  2.6400,  2.6400,  2.6400],\n",
       "         [-1.1596,  1.2108,  2.6226,  ...,  2.6226,  2.6226,  2.6226],\n",
       "         [ 1.1062,  2.6226,  2.6226,  ...,  2.6226,  2.6226,  2.6226],\n",
       "         ...,\n",
       "         [ 2.5703,  2.5703,  2.5703,  ...,  2.2391,  2.2740,  2.3088],\n",
       "         [ 2.5703,  2.5703,  2.5703,  ...,  2.3437,  2.3437,  2.3611],\n",
       "         [ 2.5703,  2.5703,  2.5703,  ...,  2.3960,  2.4134,  2.4134]]])"
      ]
     },
     "execution_count": 9,
     "metadata": {},
     "output_type": "execute_result"
    }
   ],
   "source": [
    "from IPython import display\n",
    "from PIL import Image\n",
    "from torch import nn\n",
    "from torchvision import models, transforms\n",
    "from typing import Dict, Tuple, List\n",
    "from torch.utils.data import Dataset, DataLoader, SubsetRandomSampler\n",
    "from tqdm import tqdm\n",
    "\n",
    "import random\n",
    "import torch\n",
    "import numpy as np\n",
    "\n",
    "preprocess = transforms.Compose([\n",
    "    transforms.Resize(256),\n",
    "    transforms.CenterCrop(224),\n",
    "    transforms.ToTensor(),\n",
    "    transforms.Normalize(mean=[0.485, 0.456, 0.406], std=[0.229, 0.224, 0.225]),\n",
    "])\n",
    "device = torch.device(\"cuda\" if torch.cuda.is_available() else \"cpu\")\n",
    "def load_image(filename):\n",
    "    \"\"\"\n",
    "    #https://pytorch.org/hub/pytorch_vision_resnext/\n",
    "    Simple function to load and preprocess the image.\n",
    "    1. Open the image.\n",
    "    2. Scale/crop it and convert it to a float tensor.\n",
    "    \"\"\"\n",
    "    input_image = Image.open(filename).convert('RGB')\n",
    "    return preprocess(input_image)\n",
    "\n",
    "load_image('data/train/data_7000/zeck_zuckerberg-memes-fairly-odd-parents-1.jpg')"
   ]
  },
  {
   "cell_type": "code",
   "execution_count": 10,
   "metadata": {},
   "outputs": [],
   "source": [
    "class Identity(nn.Module):\n",
    "    def __init__(self):\n",
    "        super(Identity, self).__init__()\n",
    "        \n",
    "    def forward(self, x):\n",
    "        return x\n",
    "\n",
    "#classify as positive or negative sentiment\n",
    "class ImageClassifier(nn.Module):\n",
    "    def __init__(self, output_dim=5, device=device):\n",
    "        super(ImageClassifier, self).__init__()\n",
    "        self.encoder = self.__init_encoder()\n",
    "        self.linear = nn.Linear(2048, output_dim).to(device)\n",
    "\n",
    "    def __init_encoder(self): # a helper function for setting up the image encoder\n",
    "        resnext = models.resnext50_32x4d(pretrained=True).to(device)\n",
    "        resnext.fc = Identity() #remove last layer\n",
    "        return resnext\n",
    "    \n",
    "    def forward(self, x):\n",
    "        x = self.linear(self.encoder(x))\n",
    "        return x\n",
    "    \n",
    "net = ImageClassifier(output_dim=5)\n",
    "if torch.cuda.device_count() > 1:\n",
    "    print(\"Let's use\", torch.cuda.device_count(), \"GPUs!\")\n",
    "    # dim = 0 [30, xxx] -> [10, ...], [10, ...], [10, ...] on 3 GPUs\n",
    "    net = nn.DataParallel(net)"
   ]
  },
  {
   "cell_type": "code",
   "execution_count": 18,
   "metadata": {},
   "outputs": [],
   "source": [
    "class MemotionDataset(Dataset):\n",
    "    #X is column of file names, y is 0-4 value for sentiment\n",
    "    def __init__(self, X: np.ndarray, y: torch.tensor, default_path='data/train/data_7000/'):\n",
    "        self.X = X\n",
    "        self.y = y\n",
    "        self.path = default_path\n",
    "        \n",
    "    def __getitem__(self, index):\n",
    "        try:\n",
    "            return (load_image(self.path+self.X[index]).to(device), self.y[index].to(device))\n",
    "        except:\n",
    "            return self.__getitem__(random.randrange(self.__len__()))\n",
    "\n",
    "    def __len__(self):\n",
    "        return self.X.shape[0]\n",
    "\n",
    "def prep_Xy(in_df):\n",
    "    X = in_df[0].to_numpy() #col 0 is file name\n",
    "    y = torch.tensor(in_df[8].transform(lambda y: sentiment[y]).values)\n",
    "    return X,y\n",
    "\n",
    "trainset = MemotionDataset(*prep_Xy(train_df))\n",
    "trainloader = DataLoader(trainset, batch_size=BATCH_SIZE, sampler=SubsetRandomSampler(range(TRAIN_LIMIT))) if TRAIN_MODE else \\\n",
    "              DataLoader(trainset, batch_size=BATCH_SIZE, shuffle=True)\n",
    "\n",
    "validset = MemotionDataset(*prep_Xy(valid_df))\n",
    "validloader = DataLoader(validset, batch_size=BATCH_SIZE, sampler=SubsetRandomSampler(range(TRAIN_LIMIT))) if TRAIN_MODE else \\\n",
    "              DataLoader(validset, batch_size=BATCH_SIZE, shuffle=True)\n"
   ]
  },
  {
   "cell_type": "code",
   "execution_count": 19,
   "metadata": {},
   "outputs": [
    {
     "name": "stderr",
     "output_type": "stream",
     "text": [
      "20it [00:16,  1.27it/s]"
     ]
    },
    {
     "name": "stdout",
     "output_type": "stream",
     "text": [
      "[1,    20] loss: 1.364\n"
     ]
    },
    {
     "name": "stderr",
     "output_type": "stream",
     "text": [
      "34it [00:28,  1.21it/s]/home/ghazal/myenv/lib/python3.5/site-packages/PIL/TiffImagePlugin.py:802: UserWarning: Corrupt EXIF data.  Expecting to read 2 bytes but only got 0. \n",
      "  warnings.warn(str(msg))\n",
      "40it [00:33,  1.21it/s]"
     ]
    },
    {
     "name": "stdout",
     "output_type": "stream",
     "text": [
      "[1,    40] loss: 1.366\n"
     ]
    },
    {
     "name": "stderr",
     "output_type": "stream",
     "text": [
      "60it [00:49,  1.25it/s]"
     ]
    },
    {
     "name": "stdout",
     "output_type": "stream",
     "text": [
      "[1,    60] loss: 1.281\n"
     ]
    },
    {
     "name": "stderr",
     "output_type": "stream",
     "text": [
      "73it [00:59,  1.25it/s]/home/ghazal/myenv/lib/python3.5/site-packages/PIL/Image.py:989: UserWarning: Palette images with Transparency expressed in bytes should be converted to RGBA images\n",
      "  \"Palette images with Transparency expressed in bytes should be \"\n",
      "80it [01:05,  1.24it/s]"
     ]
    },
    {
     "name": "stdout",
     "output_type": "stream",
     "text": [
      "[1,    80] loss: 1.284\n"
     ]
    },
    {
     "name": "stderr",
     "output_type": "stream",
     "text": [
      "100it [01:21,  1.27it/s]"
     ]
    },
    {
     "name": "stdout",
     "output_type": "stream",
     "text": [
      "[1,   100] loss: 1.334\n"
     ]
    },
    {
     "name": "stderr",
     "output_type": "stream",
     "text": [
      "120it [01:37,  1.20it/s]"
     ]
    },
    {
     "name": "stdout",
     "output_type": "stream",
     "text": [
      "[1,   120] loss: 1.322\n"
     ]
    },
    {
     "name": "stderr",
     "output_type": "stream",
     "text": [
      "140it [01:53,  1.25it/s]"
     ]
    },
    {
     "name": "stdout",
     "output_type": "stream",
     "text": [
      "[1,   140] loss: 1.286\n"
     ]
    },
    {
     "name": "stderr",
     "output_type": "stream",
     "text": [
      "160it [02:08,  1.31it/s]"
     ]
    },
    {
     "name": "stdout",
     "output_type": "stream",
     "text": [
      "[1,   160] loss: 1.324\n"
     ]
    },
    {
     "name": "stderr",
     "output_type": "stream",
     "text": [
      "180it [02:26,  1.06s/it]"
     ]
    },
    {
     "name": "stdout",
     "output_type": "stream",
     "text": [
      "[1,   180] loss: 1.367\n"
     ]
    },
    {
     "name": "stderr",
     "output_type": "stream",
     "text": [
      "200it [02:42,  1.25it/s]"
     ]
    },
    {
     "name": "stdout",
     "output_type": "stream",
     "text": [
      "[1,   200] loss: 1.361\n"
     ]
    },
    {
     "name": "stderr",
     "output_type": "stream",
     "text": [
      "220it [02:58,  1.25it/s]"
     ]
    },
    {
     "name": "stdout",
     "output_type": "stream",
     "text": [
      "[1,   220] loss: 1.262\n"
     ]
    },
    {
     "name": "stderr",
     "output_type": "stream",
     "text": [
      "240it [03:14,  1.28it/s]"
     ]
    },
    {
     "name": "stdout",
     "output_type": "stream",
     "text": [
      "[1,   240] loss: 1.304\n"
     ]
    },
    {
     "name": "stderr",
     "output_type": "stream",
     "text": [
      "260it [03:30,  1.27it/s]"
     ]
    },
    {
     "name": "stdout",
     "output_type": "stream",
     "text": [
      "[1,   260] loss: 1.313\n"
     ]
    },
    {
     "name": "stderr",
     "output_type": "stream",
     "text": [
      "280it [03:46,  1.24it/s]\n",
      "0it [00:00, ?it/s]"
     ]
    },
    {
     "name": "stdout",
     "output_type": "stream",
     "text": [
      "[1,   280] loss: 1.301\n"
     ]
    },
    {
     "name": "stderr",
     "output_type": "stream",
     "text": [
      "20it [00:16,  1.17it/s]"
     ]
    },
    {
     "name": "stdout",
     "output_type": "stream",
     "text": [
      "[2,    20] loss: 1.181\n"
     ]
    },
    {
     "name": "stderr",
     "output_type": "stream",
     "text": [
      "40it [00:32,  1.24it/s]"
     ]
    },
    {
     "name": "stdout",
     "output_type": "stream",
     "text": [
      "[2,    40] loss: 1.174\n"
     ]
    },
    {
     "name": "stderr",
     "output_type": "stream",
     "text": [
      "60it [00:49,  1.20it/s]"
     ]
    },
    {
     "name": "stdout",
     "output_type": "stream",
     "text": [
      "[2,    60] loss: 1.186\n"
     ]
    },
    {
     "name": "stderr",
     "output_type": "stream",
     "text": [
      "80it [01:05,  1.23it/s]"
     ]
    },
    {
     "name": "stdout",
     "output_type": "stream",
     "text": [
      "[2,    80] loss: 1.148\n"
     ]
    },
    {
     "name": "stderr",
     "output_type": "stream",
     "text": [
      "100it [01:21,  1.18it/s]"
     ]
    },
    {
     "name": "stdout",
     "output_type": "stream",
     "text": [
      "[2,   100] loss: 1.110\n"
     ]
    },
    {
     "name": "stderr",
     "output_type": "stream",
     "text": [
      "120it [01:37,  1.25it/s]"
     ]
    },
    {
     "name": "stdout",
     "output_type": "stream",
     "text": [
      "[2,   120] loss: 1.181\n"
     ]
    },
    {
     "name": "stderr",
     "output_type": "stream",
     "text": [
      "140it [01:54,  1.03s/it]"
     ]
    },
    {
     "name": "stdout",
     "output_type": "stream",
     "text": [
      "[2,   140] loss: 1.209\n"
     ]
    },
    {
     "name": "stderr",
     "output_type": "stream",
     "text": [
      "160it [02:11,  1.21it/s]"
     ]
    },
    {
     "name": "stdout",
     "output_type": "stream",
     "text": [
      "[2,   160] loss: 1.205\n"
     ]
    },
    {
     "name": "stderr",
     "output_type": "stream",
     "text": [
      "180it [02:26,  1.28it/s]"
     ]
    },
    {
     "name": "stdout",
     "output_type": "stream",
     "text": [
      "[2,   180] loss: 1.213\n"
     ]
    },
    {
     "name": "stderr",
     "output_type": "stream",
     "text": [
      "200it [02:42,  1.25it/s]"
     ]
    },
    {
     "name": "stdout",
     "output_type": "stream",
     "text": [
      "[2,   200] loss: 1.227\n"
     ]
    },
    {
     "name": "stderr",
     "output_type": "stream",
     "text": [
      "220it [02:58,  1.21it/s]"
     ]
    },
    {
     "name": "stdout",
     "output_type": "stream",
     "text": [
      "[2,   220] loss: 1.167\n"
     ]
    },
    {
     "name": "stderr",
     "output_type": "stream",
     "text": [
      "240it [03:14,  1.25it/s]"
     ]
    },
    {
     "name": "stdout",
     "output_type": "stream",
     "text": [
      "[2,   240] loss: 1.215\n"
     ]
    },
    {
     "name": "stderr",
     "output_type": "stream",
     "text": [
      "260it [03:30,  1.27it/s]"
     ]
    },
    {
     "name": "stdout",
     "output_type": "stream",
     "text": [
      "[2,   260] loss: 1.237\n"
     ]
    },
    {
     "name": "stderr",
     "output_type": "stream",
     "text": [
      "280it [03:46,  1.24it/s]"
     ]
    },
    {
     "name": "stdout",
     "output_type": "stream",
     "text": [
      "[2,   280] loss: 1.206\n"
     ]
    },
    {
     "name": "stderr",
     "output_type": "stream",
     "text": [
      "\n",
      "20it [00:15,  1.33it/s]"
     ]
    },
    {
     "name": "stdout",
     "output_type": "stream",
     "text": [
      "[3,    20] loss: 0.913\n"
     ]
    },
    {
     "name": "stderr",
     "output_type": "stream",
     "text": [
      "40it [00:31,  1.30it/s]"
     ]
    },
    {
     "name": "stdout",
     "output_type": "stream",
     "text": [
      "[3,    40] loss: 0.912\n"
     ]
    },
    {
     "name": "stderr",
     "output_type": "stream",
     "text": [
      "60it [00:47,  1.28it/s]"
     ]
    },
    {
     "name": "stdout",
     "output_type": "stream",
     "text": [
      "[3,    60] loss: 0.832\n"
     ]
    },
    {
     "name": "stderr",
     "output_type": "stream",
     "text": [
      "80it [01:04,  1.11s/it]"
     ]
    },
    {
     "name": "stdout",
     "output_type": "stream",
     "text": [
      "[3,    80] loss: 0.849\n"
     ]
    },
    {
     "name": "stderr",
     "output_type": "stream",
     "text": [
      "100it [01:20,  1.30it/s]"
     ]
    },
    {
     "name": "stdout",
     "output_type": "stream",
     "text": [
      "[3,   100] loss: 0.859\n"
     ]
    },
    {
     "name": "stderr",
     "output_type": "stream",
     "text": [
      "120it [01:35,  1.31it/s]"
     ]
    },
    {
     "name": "stdout",
     "output_type": "stream",
     "text": [
      "[3,   120] loss: 0.817\n"
     ]
    },
    {
     "name": "stderr",
     "output_type": "stream",
     "text": [
      "140it [01:51,  1.23it/s]"
     ]
    },
    {
     "name": "stdout",
     "output_type": "stream",
     "text": [
      "[3,   140] loss: 0.821\n"
     ]
    },
    {
     "name": "stderr",
     "output_type": "stream",
     "text": [
      "160it [02:07,  1.27it/s]"
     ]
    },
    {
     "name": "stdout",
     "output_type": "stream",
     "text": [
      "[3,   160] loss: 0.874\n"
     ]
    },
    {
     "name": "stderr",
     "output_type": "stream",
     "text": [
      "180it [02:23,  1.29it/s]"
     ]
    },
    {
     "name": "stdout",
     "output_type": "stream",
     "text": [
      "[3,   180] loss: 0.839\n"
     ]
    },
    {
     "name": "stderr",
     "output_type": "stream",
     "text": [
      "200it [02:38,  1.31it/s]"
     ]
    },
    {
     "name": "stdout",
     "output_type": "stream",
     "text": [
      "[3,   200] loss: 0.856\n"
     ]
    },
    {
     "name": "stderr",
     "output_type": "stream",
     "text": [
      "220it [02:54,  1.23it/s]"
     ]
    },
    {
     "name": "stdout",
     "output_type": "stream",
     "text": [
      "[3,   220] loss: 0.874\n"
     ]
    },
    {
     "name": "stderr",
     "output_type": "stream",
     "text": [
      "240it [03:10,  1.28it/s]"
     ]
    },
    {
     "name": "stdout",
     "output_type": "stream",
     "text": [
      "[3,   240] loss: 0.985\n"
     ]
    },
    {
     "name": "stderr",
     "output_type": "stream",
     "text": [
      "260it [03:26,  1.31it/s]"
     ]
    },
    {
     "name": "stdout",
     "output_type": "stream",
     "text": [
      "[3,   260] loss: 0.970\n"
     ]
    },
    {
     "name": "stderr",
     "output_type": "stream",
     "text": [
      "280it [03:42,  1.26it/s]"
     ]
    },
    {
     "name": "stdout",
     "output_type": "stream",
     "text": [
      "[3,   280] loss: 0.957\n"
     ]
    },
    {
     "name": "stderr",
     "output_type": "stream",
     "text": [
      "\n",
      "20it [00:16,  1.28it/s]"
     ]
    },
    {
     "name": "stdout",
     "output_type": "stream",
     "text": [
      "[4,    20] loss: 0.494\n"
     ]
    },
    {
     "name": "stderr",
     "output_type": "stream",
     "text": [
      "40it [00:31,  1.28it/s]"
     ]
    },
    {
     "name": "stdout",
     "output_type": "stream",
     "text": [
      "[4,    40] loss: 0.444\n"
     ]
    },
    {
     "name": "stderr",
     "output_type": "stream",
     "text": [
      "60it [00:48,  1.19it/s]"
     ]
    },
    {
     "name": "stdout",
     "output_type": "stream",
     "text": [
      "[4,    60] loss: 0.465\n"
     ]
    },
    {
     "name": "stderr",
     "output_type": "stream",
     "text": [
      "80it [01:03,  1.29it/s]"
     ]
    },
    {
     "name": "stdout",
     "output_type": "stream",
     "text": [
      "[4,    80] loss: 0.431\n"
     ]
    },
    {
     "name": "stderr",
     "output_type": "stream",
     "text": [
      "100it [01:19,  1.30it/s]"
     ]
    },
    {
     "name": "stdout",
     "output_type": "stream",
     "text": [
      "[4,   100] loss: 0.366\n"
     ]
    },
    {
     "name": "stderr",
     "output_type": "stream",
     "text": [
      "120it [01:36,  1.21it/s]"
     ]
    },
    {
     "name": "stdout",
     "output_type": "stream",
     "text": [
      "[4,   120] loss: 0.407\n"
     ]
    },
    {
     "name": "stderr",
     "output_type": "stream",
     "text": [
      "140it [01:51,  1.28it/s]"
     ]
    },
    {
     "name": "stdout",
     "output_type": "stream",
     "text": [
      "[4,   140] loss: 0.437\n"
     ]
    },
    {
     "name": "stderr",
     "output_type": "stream",
     "text": [
      "160it [02:07,  1.26it/s]"
     ]
    },
    {
     "name": "stdout",
     "output_type": "stream",
     "text": [
      "[4,   160] loss: 0.404\n"
     ]
    },
    {
     "name": "stderr",
     "output_type": "stream",
     "text": [
      "180it [02:23,  1.25it/s]"
     ]
    },
    {
     "name": "stdout",
     "output_type": "stream",
     "text": [
      "[4,   180] loss: 0.448\n"
     ]
    },
    {
     "name": "stderr",
     "output_type": "stream",
     "text": [
      "200it [02:38,  1.30it/s]"
     ]
    },
    {
     "name": "stdout",
     "output_type": "stream",
     "text": [
      "[4,   200] loss: 0.476\n"
     ]
    },
    {
     "name": "stderr",
     "output_type": "stream",
     "text": [
      "220it [02:54,  1.30it/s]"
     ]
    },
    {
     "name": "stdout",
     "output_type": "stream",
     "text": [
      "[4,   220] loss: 0.476\n"
     ]
    },
    {
     "name": "stderr",
     "output_type": "stream",
     "text": [
      "240it [03:10,  1.30it/s]"
     ]
    },
    {
     "name": "stdout",
     "output_type": "stream",
     "text": [
      "[4,   240] loss: 0.511\n"
     ]
    },
    {
     "name": "stderr",
     "output_type": "stream",
     "text": [
      "260it [03:26,  1.27it/s]"
     ]
    },
    {
     "name": "stdout",
     "output_type": "stream",
     "text": [
      "[4,   260] loss: 0.536\n"
     ]
    },
    {
     "name": "stderr",
     "output_type": "stream",
     "text": [
      "280it [03:42,  1.26it/s]"
     ]
    },
    {
     "name": "stdout",
     "output_type": "stream",
     "text": [
      "[4,   280] loss: 0.537\n"
     ]
    },
    {
     "name": "stderr",
     "output_type": "stream",
     "text": [
      "\n",
      "20it [00:15,  1.26it/s]"
     ]
    },
    {
     "name": "stdout",
     "output_type": "stream",
     "text": [
      "[5,    20] loss: 0.333\n"
     ]
    },
    {
     "name": "stderr",
     "output_type": "stream",
     "text": [
      "40it [00:31,  1.29it/s]"
     ]
    },
    {
     "name": "stdout",
     "output_type": "stream",
     "text": [
      "[5,    40] loss: 0.279\n"
     ]
    },
    {
     "name": "stderr",
     "output_type": "stream",
     "text": [
      "60it [00:48,  1.13it/s]"
     ]
    },
    {
     "name": "stdout",
     "output_type": "stream",
     "text": [
      "[5,    60] loss: 0.234\n"
     ]
    },
    {
     "name": "stderr",
     "output_type": "stream",
     "text": [
      "80it [01:03,  1.30it/s]"
     ]
    },
    {
     "name": "stdout",
     "output_type": "stream",
     "text": [
      "[5,    80] loss: 0.235\n"
     ]
    },
    {
     "name": "stderr",
     "output_type": "stream",
     "text": [
      "100it [01:19,  1.29it/s]"
     ]
    },
    {
     "name": "stdout",
     "output_type": "stream",
     "text": [
      "[5,   100] loss: 0.263\n"
     ]
    },
    {
     "name": "stderr",
     "output_type": "stream",
     "text": [
      "120it [01:36,  1.28it/s]"
     ]
    },
    {
     "name": "stdout",
     "output_type": "stream",
     "text": [
      "[5,   120] loss: 0.247\n"
     ]
    },
    {
     "name": "stderr",
     "output_type": "stream",
     "text": [
      "140it [01:51,  1.33it/s]"
     ]
    },
    {
     "name": "stdout",
     "output_type": "stream",
     "text": [
      "[5,   140] loss: 0.283\n"
     ]
    },
    {
     "name": "stderr",
     "output_type": "stream",
     "text": [
      "160it [02:07,  1.33it/s]"
     ]
    },
    {
     "name": "stdout",
     "output_type": "stream",
     "text": [
      "[5,   160] loss: 0.270\n"
     ]
    },
    {
     "name": "stderr",
     "output_type": "stream",
     "text": [
      "180it [02:22,  1.33it/s]"
     ]
    },
    {
     "name": "stdout",
     "output_type": "stream",
     "text": [
      "[5,   180] loss: 0.252\n"
     ]
    },
    {
     "name": "stderr",
     "output_type": "stream",
     "text": [
      "200it [02:38,  1.28it/s]"
     ]
    },
    {
     "name": "stdout",
     "output_type": "stream",
     "text": [
      "[5,   200] loss: 0.237\n"
     ]
    },
    {
     "name": "stderr",
     "output_type": "stream",
     "text": [
      "220it [02:54,  1.26it/s]"
     ]
    },
    {
     "name": "stdout",
     "output_type": "stream",
     "text": [
      "[5,   220] loss: 0.266\n"
     ]
    },
    {
     "name": "stderr",
     "output_type": "stream",
     "text": [
      "240it [03:10,  1.23it/s]"
     ]
    },
    {
     "name": "stdout",
     "output_type": "stream",
     "text": [
      "[5,   240] loss: 0.281\n"
     ]
    },
    {
     "name": "stderr",
     "output_type": "stream",
     "text": [
      "260it [03:25,  1.30it/s]"
     ]
    },
    {
     "name": "stdout",
     "output_type": "stream",
     "text": [
      "[5,   260] loss: 0.316\n"
     ]
    },
    {
     "name": "stderr",
     "output_type": "stream",
     "text": [
      "280it [03:41,  1.26it/s]"
     ]
    },
    {
     "name": "stdout",
     "output_type": "stream",
     "text": [
      "[5,   280] loss: 0.278\n"
     ]
    },
    {
     "name": "stderr",
     "output_type": "stream",
     "text": [
      "\n",
      "20it [00:15,  1.24it/s]"
     ]
    },
    {
     "name": "stdout",
     "output_type": "stream",
     "text": [
      "[6,    20] loss: 0.163\n"
     ]
    },
    {
     "name": "stderr",
     "output_type": "stream",
     "text": [
      "40it [00:31,  1.28it/s]"
     ]
    },
    {
     "name": "stdout",
     "output_type": "stream",
     "text": [
      "[6,    40] loss: 0.184\n"
     ]
    },
    {
     "name": "stderr",
     "output_type": "stream",
     "text": [
      "60it [00:47,  1.18it/s]"
     ]
    },
    {
     "name": "stdout",
     "output_type": "stream",
     "text": [
      "[6,    60] loss: 0.166\n"
     ]
    },
    {
     "name": "stderr",
     "output_type": "stream",
     "text": [
      "80it [01:03,  1.19it/s]"
     ]
    },
    {
     "name": "stdout",
     "output_type": "stream",
     "text": [
      "[6,    80] loss: 0.179\n"
     ]
    },
    {
     "name": "stderr",
     "output_type": "stream",
     "text": [
      "100it [01:18,  1.28it/s]"
     ]
    },
    {
     "name": "stdout",
     "output_type": "stream",
     "text": [
      "[6,   100] loss: 0.246\n"
     ]
    },
    {
     "name": "stderr",
     "output_type": "stream",
     "text": [
      "120it [01:34,  1.31it/s]"
     ]
    },
    {
     "name": "stdout",
     "output_type": "stream",
     "text": [
      "[6,   120] loss: 0.173\n"
     ]
    },
    {
     "name": "stderr",
     "output_type": "stream",
     "text": [
      "140it [01:50,  1.13it/s]"
     ]
    },
    {
     "name": "stdout",
     "output_type": "stream",
     "text": [
      "[6,   140] loss: 0.148\n"
     ]
    },
    {
     "name": "stderr",
     "output_type": "stream",
     "text": [
      "160it [02:06,  1.26it/s]"
     ]
    },
    {
     "name": "stdout",
     "output_type": "stream",
     "text": [
      "[6,   160] loss: 0.195\n"
     ]
    },
    {
     "name": "stderr",
     "output_type": "stream",
     "text": [
      "180it [02:23,  1.17it/s]"
     ]
    },
    {
     "name": "stdout",
     "output_type": "stream",
     "text": [
      "[6,   180] loss: 0.182\n"
     ]
    },
    {
     "name": "stderr",
     "output_type": "stream",
     "text": [
      "200it [02:39,  1.31it/s]"
     ]
    },
    {
     "name": "stdout",
     "output_type": "stream",
     "text": [
      "[6,   200] loss: 0.134\n"
     ]
    },
    {
     "name": "stderr",
     "output_type": "stream",
     "text": [
      "220it [02:54,  1.31it/s]"
     ]
    },
    {
     "name": "stdout",
     "output_type": "stream",
     "text": [
      "[6,   220] loss: 0.191\n"
     ]
    },
    {
     "name": "stderr",
     "output_type": "stream",
     "text": [
      "240it [03:10,  1.24it/s]"
     ]
    },
    {
     "name": "stdout",
     "output_type": "stream",
     "text": [
      "[6,   240] loss: 0.150\n"
     ]
    },
    {
     "name": "stderr",
     "output_type": "stream",
     "text": [
      "260it [03:27,  1.23it/s]"
     ]
    },
    {
     "name": "stdout",
     "output_type": "stream",
     "text": [
      "[6,   260] loss: 0.136\n"
     ]
    },
    {
     "name": "stderr",
     "output_type": "stream",
     "text": [
      "280it [03:42,  1.26it/s]"
     ]
    },
    {
     "name": "stdout",
     "output_type": "stream",
     "text": [
      "[6,   280] loss: 0.193\n"
     ]
    },
    {
     "name": "stderr",
     "output_type": "stream",
     "text": [
      "\n",
      "20it [00:16,  1.23it/s]"
     ]
    },
    {
     "name": "stdout",
     "output_type": "stream",
     "text": [
      "[7,    20] loss: 0.089\n"
     ]
    },
    {
     "name": "stderr",
     "output_type": "stream",
     "text": [
      "40it [00:31,  1.28it/s]"
     ]
    },
    {
     "name": "stdout",
     "output_type": "stream",
     "text": [
      "[7,    40] loss: 0.116\n"
     ]
    },
    {
     "name": "stderr",
     "output_type": "stream",
     "text": [
      "60it [00:47,  1.30it/s]"
     ]
    },
    {
     "name": "stdout",
     "output_type": "stream",
     "text": [
      "[7,    60] loss: 0.090\n"
     ]
    },
    {
     "name": "stderr",
     "output_type": "stream",
     "text": [
      "80it [01:03,  1.30it/s]"
     ]
    },
    {
     "name": "stdout",
     "output_type": "stream",
     "text": [
      "[7,    80] loss: 0.084\n"
     ]
    },
    {
     "name": "stderr",
     "output_type": "stream",
     "text": [
      "100it [01:20,  1.32it/s]"
     ]
    },
    {
     "name": "stdout",
     "output_type": "stream",
     "text": [
      "[7,   100] loss: 0.154\n"
     ]
    },
    {
     "name": "stderr",
     "output_type": "stream",
     "text": [
      "120it [01:35,  1.30it/s]"
     ]
    },
    {
     "name": "stdout",
     "output_type": "stream",
     "text": [
      "[7,   120] loss: 0.141\n"
     ]
    },
    {
     "name": "stderr",
     "output_type": "stream",
     "text": [
      "140it [01:51,  1.25it/s]"
     ]
    },
    {
     "name": "stdout",
     "output_type": "stream",
     "text": [
      "[7,   140] loss: 0.134\n"
     ]
    },
    {
     "name": "stderr",
     "output_type": "stream",
     "text": [
      "160it [02:07,  1.31it/s]"
     ]
    },
    {
     "name": "stdout",
     "output_type": "stream",
     "text": [
      "[7,   160] loss: 0.118\n"
     ]
    },
    {
     "name": "stderr",
     "output_type": "stream",
     "text": [
      "180it [02:22,  1.31it/s]"
     ]
    },
    {
     "name": "stdout",
     "output_type": "stream",
     "text": [
      "[7,   180] loss: 0.128\n"
     ]
    },
    {
     "name": "stderr",
     "output_type": "stream",
     "text": [
      "200it [02:38,  1.25it/s]"
     ]
    },
    {
     "name": "stdout",
     "output_type": "stream",
     "text": [
      "[7,   200] loss: 0.149\n"
     ]
    },
    {
     "name": "stderr",
     "output_type": "stream",
     "text": [
      "220it [02:54,  1.27it/s]"
     ]
    },
    {
     "name": "stdout",
     "output_type": "stream",
     "text": [
      "[7,   220] loss: 0.157\n"
     ]
    },
    {
     "name": "stderr",
     "output_type": "stream",
     "text": [
      "240it [03:10,  1.24it/s]"
     ]
    },
    {
     "name": "stdout",
     "output_type": "stream",
     "text": [
      "[7,   240] loss: 0.140\n"
     ]
    },
    {
     "name": "stderr",
     "output_type": "stream",
     "text": [
      "260it [03:25,  1.27it/s]"
     ]
    },
    {
     "name": "stdout",
     "output_type": "stream",
     "text": [
      "[7,   260] loss: 0.168\n"
     ]
    },
    {
     "name": "stderr",
     "output_type": "stream",
     "text": [
      "280it [03:41,  1.26it/s]"
     ]
    },
    {
     "name": "stdout",
     "output_type": "stream",
     "text": [
      "[7,   280] loss: 0.129\n"
     ]
    },
    {
     "name": "stderr",
     "output_type": "stream",
     "text": [
      "\n",
      "20it [00:15,  1.25it/s]"
     ]
    },
    {
     "name": "stdout",
     "output_type": "stream",
     "text": [
      "[8,    20] loss: 0.120\n"
     ]
    },
    {
     "name": "stderr",
     "output_type": "stream",
     "text": [
      "40it [00:31,  1.22it/s]"
     ]
    },
    {
     "name": "stdout",
     "output_type": "stream",
     "text": [
      "[8,    40] loss: 0.087\n"
     ]
    },
    {
     "name": "stderr",
     "output_type": "stream",
     "text": [
      "60it [00:47,  1.29it/s]"
     ]
    },
    {
     "name": "stdout",
     "output_type": "stream",
     "text": [
      "[8,    60] loss: 0.119\n"
     ]
    },
    {
     "name": "stderr",
     "output_type": "stream",
     "text": [
      "80it [01:02,  1.30it/s]"
     ]
    },
    {
     "name": "stdout",
     "output_type": "stream",
     "text": [
      "[8,    80] loss: 0.077\n"
     ]
    },
    {
     "name": "stderr",
     "output_type": "stream",
     "text": [
      "100it [01:18,  1.26it/s]"
     ]
    },
    {
     "name": "stdout",
     "output_type": "stream",
     "text": [
      "[8,   100] loss: 0.077\n"
     ]
    },
    {
     "name": "stderr",
     "output_type": "stream",
     "text": [
      "120it [01:34,  1.25it/s]"
     ]
    },
    {
     "name": "stdout",
     "output_type": "stream",
     "text": [
      "[8,   120] loss: 0.064\n"
     ]
    },
    {
     "name": "stderr",
     "output_type": "stream",
     "text": [
      "140it [01:49,  1.32it/s]"
     ]
    },
    {
     "name": "stdout",
     "output_type": "stream",
     "text": [
      "[8,   140] loss: 0.074\n"
     ]
    },
    {
     "name": "stderr",
     "output_type": "stream",
     "text": [
      "160it [02:05,  1.34it/s]"
     ]
    },
    {
     "name": "stdout",
     "output_type": "stream",
     "text": [
      "[8,   160] loss: 0.096\n"
     ]
    },
    {
     "name": "stderr",
     "output_type": "stream",
     "text": [
      "180it [02:21,  1.26it/s]"
     ]
    },
    {
     "name": "stdout",
     "output_type": "stream",
     "text": [
      "[8,   180] loss: 0.094\n"
     ]
    },
    {
     "name": "stderr",
     "output_type": "stream",
     "text": [
      "200it [02:37,  1.20it/s]"
     ]
    },
    {
     "name": "stdout",
     "output_type": "stream",
     "text": [
      "[8,   200] loss: 0.093\n"
     ]
    },
    {
     "name": "stderr",
     "output_type": "stream",
     "text": [
      "220it [02:54,  1.33it/s]"
     ]
    },
    {
     "name": "stdout",
     "output_type": "stream",
     "text": [
      "[8,   220] loss: 0.078\n"
     ]
    },
    {
     "name": "stderr",
     "output_type": "stream",
     "text": [
      "240it [03:09,  1.23it/s]"
     ]
    },
    {
     "name": "stdout",
     "output_type": "stream",
     "text": [
      "[8,   240] loss: 0.103\n"
     ]
    },
    {
     "name": "stderr",
     "output_type": "stream",
     "text": [
      "260it [03:26,  1.27it/s]"
     ]
    },
    {
     "name": "stdout",
     "output_type": "stream",
     "text": [
      "[8,   260] loss: 0.088\n"
     ]
    },
    {
     "name": "stderr",
     "output_type": "stream",
     "text": [
      "280it [03:41,  1.26it/s]"
     ]
    },
    {
     "name": "stdout",
     "output_type": "stream",
     "text": [
      "[8,   280] loss: 0.113\n"
     ]
    },
    {
     "name": "stderr",
     "output_type": "stream",
     "text": [
      "\n",
      "20it [00:15,  1.30it/s]"
     ]
    },
    {
     "name": "stdout",
     "output_type": "stream",
     "text": [
      "[9,    20] loss: 0.074\n"
     ]
    },
    {
     "name": "stderr",
     "output_type": "stream",
     "text": [
      "40it [00:31,  1.23it/s]"
     ]
    },
    {
     "name": "stdout",
     "output_type": "stream",
     "text": [
      "[9,    40] loss: 0.085\n"
     ]
    },
    {
     "name": "stderr",
     "output_type": "stream",
     "text": [
      "60it [00:46,  1.32it/s]"
     ]
    },
    {
     "name": "stdout",
     "output_type": "stream",
     "text": [
      "[9,    60] loss: 0.062\n"
     ]
    },
    {
     "name": "stderr",
     "output_type": "stream",
     "text": [
      "80it [01:02,  1.24it/s]"
     ]
    },
    {
     "name": "stdout",
     "output_type": "stream",
     "text": [
      "[9,    80] loss: 0.083\n"
     ]
    },
    {
     "name": "stderr",
     "output_type": "stream",
     "text": [
      "100it [01:18,  1.26it/s]"
     ]
    },
    {
     "name": "stdout",
     "output_type": "stream",
     "text": [
      "[9,   100] loss: 0.055\n"
     ]
    },
    {
     "name": "stderr",
     "output_type": "stream",
     "text": [
      "120it [01:33,  1.27it/s]"
     ]
    },
    {
     "name": "stdout",
     "output_type": "stream",
     "text": [
      "[9,   120] loss: 0.072\n"
     ]
    },
    {
     "name": "stderr",
     "output_type": "stream",
     "text": [
      "140it [01:49,  1.28it/s]"
     ]
    },
    {
     "name": "stdout",
     "output_type": "stream",
     "text": [
      "[9,   140] loss: 0.084\n"
     ]
    },
    {
     "name": "stderr",
     "output_type": "stream",
     "text": [
      "160it [02:05,  1.23it/s]"
     ]
    },
    {
     "name": "stdout",
     "output_type": "stream",
     "text": [
      "[9,   160] loss: 0.096\n"
     ]
    },
    {
     "name": "stderr",
     "output_type": "stream",
     "text": [
      "180it [02:21,  1.25it/s]"
     ]
    },
    {
     "name": "stdout",
     "output_type": "stream",
     "text": [
      "[9,   180] loss: 0.060\n"
     ]
    },
    {
     "name": "stderr",
     "output_type": "stream",
     "text": [
      "200it [02:37,  1.29it/s]"
     ]
    },
    {
     "name": "stdout",
     "output_type": "stream",
     "text": [
      "[9,   200] loss: 0.067\n"
     ]
    },
    {
     "name": "stderr",
     "output_type": "stream",
     "text": [
      "220it [02:53,  1.23it/s]"
     ]
    },
    {
     "name": "stdout",
     "output_type": "stream",
     "text": [
      "[9,   220] loss: 0.110\n"
     ]
    },
    {
     "name": "stderr",
     "output_type": "stream",
     "text": [
      "240it [03:09,  1.31it/s]"
     ]
    },
    {
     "name": "stdout",
     "output_type": "stream",
     "text": [
      "[9,   240] loss: 0.078\n"
     ]
    },
    {
     "name": "stderr",
     "output_type": "stream",
     "text": [
      "260it [03:26,  1.00it/s]"
     ]
    },
    {
     "name": "stdout",
     "output_type": "stream",
     "text": [
      "[9,   260] loss: 0.086\n"
     ]
    },
    {
     "name": "stderr",
     "output_type": "stream",
     "text": [
      "280it [03:42,  1.26it/s]"
     ]
    },
    {
     "name": "stdout",
     "output_type": "stream",
     "text": [
      "[9,   280] loss: 0.108\n"
     ]
    },
    {
     "name": "stderr",
     "output_type": "stream",
     "text": [
      "\n",
      "20it [00:16,  1.23it/s]"
     ]
    },
    {
     "name": "stdout",
     "output_type": "stream",
     "text": [
      "[10,    20] loss: 0.046\n"
     ]
    },
    {
     "name": "stderr",
     "output_type": "stream",
     "text": [
      "40it [00:32,  1.23it/s]"
     ]
    },
    {
     "name": "stdout",
     "output_type": "stream",
     "text": [
      "[10,    40] loss: 0.045\n"
     ]
    },
    {
     "name": "stderr",
     "output_type": "stream",
     "text": [
      "60it [00:47,  1.22it/s]"
     ]
    },
    {
     "name": "stdout",
     "output_type": "stream",
     "text": [
      "[10,    60] loss: 0.058\n"
     ]
    },
    {
     "name": "stderr",
     "output_type": "stream",
     "text": [
      "80it [01:04,  1.24it/s]"
     ]
    },
    {
     "name": "stdout",
     "output_type": "stream",
     "text": [
      "[10,    80] loss: 0.059\n"
     ]
    },
    {
     "name": "stderr",
     "output_type": "stream",
     "text": [
      "100it [01:19,  1.29it/s]"
     ]
    },
    {
     "name": "stdout",
     "output_type": "stream",
     "text": [
      "[10,   100] loss: 0.075\n"
     ]
    },
    {
     "name": "stderr",
     "output_type": "stream",
     "text": [
      "120it [01:35,  1.25it/s]"
     ]
    },
    {
     "name": "stdout",
     "output_type": "stream",
     "text": [
      "[10,   120] loss: 0.063\n"
     ]
    },
    {
     "name": "stderr",
     "output_type": "stream",
     "text": [
      "140it [01:51,  1.26it/s]"
     ]
    },
    {
     "name": "stdout",
     "output_type": "stream",
     "text": [
      "[10,   140] loss: 0.093\n"
     ]
    },
    {
     "name": "stderr",
     "output_type": "stream",
     "text": [
      "160it [02:07,  1.25it/s]"
     ]
    },
    {
     "name": "stdout",
     "output_type": "stream",
     "text": [
      "[10,   160] loss: 0.081\n"
     ]
    },
    {
     "name": "stderr",
     "output_type": "stream",
     "text": [
      "180it [02:23,  1.29it/s]"
     ]
    },
    {
     "name": "stdout",
     "output_type": "stream",
     "text": [
      "[10,   180] loss: 0.072\n"
     ]
    },
    {
     "name": "stderr",
     "output_type": "stream",
     "text": [
      "200it [02:39,  1.29it/s]"
     ]
    },
    {
     "name": "stdout",
     "output_type": "stream",
     "text": [
      "[10,   200] loss: 0.049\n"
     ]
    },
    {
     "name": "stderr",
     "output_type": "stream",
     "text": [
      "220it [02:55,  1.28it/s]"
     ]
    },
    {
     "name": "stdout",
     "output_type": "stream",
     "text": [
      "[10,   220] loss: 0.049\n"
     ]
    },
    {
     "name": "stderr",
     "output_type": "stream",
     "text": [
      "240it [03:11,  1.30it/s]"
     ]
    },
    {
     "name": "stdout",
     "output_type": "stream",
     "text": [
      "[10,   240] loss: 0.078\n"
     ]
    },
    {
     "name": "stderr",
     "output_type": "stream",
     "text": [
      "260it [03:26,  1.25it/s]"
     ]
    },
    {
     "name": "stdout",
     "output_type": "stream",
     "text": [
      "[10,   260] loss: 0.100\n"
     ]
    },
    {
     "name": "stderr",
     "output_type": "stream",
     "text": [
      "280it [03:42,  1.26it/s]"
     ]
    },
    {
     "name": "stdout",
     "output_type": "stream",
     "text": [
      "[10,   280] loss: 0.064\n"
     ]
    },
    {
     "name": "stderr",
     "output_type": "stream",
     "text": [
      "\n"
     ]
    },
    {
     "name": "stdout",
     "output_type": "stream",
     "text": [
      "Finished Training\n"
     ]
    }
   ],
   "source": [
    "import torch.optim as optim\n",
    "\n",
    "net.train()\n",
    "criterion = nn.CrossEntropyLoss()\n",
    "# optimizer = optim.Adagrad(net.parameters())\n",
    "optimizer = optim.SGD(net.parameters(), lr=0.001, momentum=0.9)\n",
    "for epoch in range(EPOCHS):  # loop over the dataset multiple times\n",
    "    running_loss = 0.0\n",
    "    for i, (X,y) in tqdm(enumerate(trainloader)):\n",
    "        # zero the parameter gradients\n",
    "        optimizer.zero_grad()\n",
    "\n",
    "        # forward + backward + optimize\n",
    "        outputs = net(X)\n",
    "        loss = criterion(outputs, y)\n",
    "        loss.backward()\n",
    "        optimizer.step()\n",
    "\n",
    "        # print statistics\n",
    "        running_loss += loss.item()\n",
    "        if i % 20 == 19:    # print every 20 mini-batches\n",
    "            print('[%d, %5d] loss: %.3f' %\n",
    "                  (epoch + 1, i + 1, running_loss / 20))\n",
    "            running_loss = 0.0\n",
    "    \n",
    "    torch.save(net.state_dict(), \"a2_cnn_model_state_dict_epoch\"+str(i)+\".pth\")\n",
    "\n",
    "print('Finished Training')\n",
    "torch.save(net.state_dict(), 'a2_cnn_model_state_dict_complete.pth')\n",
    "# torch.save(net, 'a2_cnn_model_full.pth')"
   ]
  },
  {
   "cell_type": "code",
   "execution_count": 20,
   "metadata": {},
   "outputs": [
    {
     "name": "stdout",
     "output_type": "stream",
     "text": [
      "Accuracy of the network on all test images: 99 %\n"
     ]
    }
   ],
   "source": [
    "def eval_accuracy(net, validloader):\n",
    "    net.eval()\n",
    "    correct = 0\n",
    "    total = 0\n",
    "    with torch.no_grad():\n",
    "        for data in validloader:\n",
    "            images, labels = data\n",
    "            outputs = net(images)\n",
    "            _, predicted = torch.max(outputs.data, dim=1)\n",
    "            total += labels.size(0)\n",
    "            correct += (predicted == labels).sum().item()\n",
    "\n",
    "    print('Accuracy of the network on %s test images: %d %%' % (\n",
    "        str(TRAIN_LIMIT) if TRAIN_MODE else 'all',\n",
    "        100 * correct / total))\n",
    "    \n",
    "eval_accuracy(net, validloader)"
   ]
  },
  {
   "cell_type": "markdown",
   "metadata": {},
   "source": [
    "# Final Part: End to End training using the pretrained modules"
   ]
  },
  {
   "cell_type": "markdown",
   "metadata": {},
   "source": [
    "# A) Train"
   ]
  },
  {
   "cell_type": "code",
   "execution_count": 21,
   "metadata": {},
   "outputs": [
    {
     "name": "stderr",
     "output_type": "stream",
     "text": [
      "/home/ghazal/myenv/lib/python3.5/site-packages/torch/serialization.py:292: UserWarning: Couldn't retrieve source code for container of type ImageClassifier. It won't be checked for correctness upon loading.\n",
      "  \"type \" + obj.__name__ + \". It won't be checked \"\n",
      "/home/ghazal/myenv/lib/python3.5/site-packages/torch/serialization.py:292: UserWarning: Couldn't retrieve source code for container of type ResNet. It won't be checked for correctness upon loading.\n",
      "  \"type \" + obj.__name__ + \". It won't be checked \"\n",
      "/home/ghazal/myenv/lib/python3.5/site-packages/torch/serialization.py:292: UserWarning: Couldn't retrieve source code for container of type BatchNorm2d. It won't be checked for correctness upon loading.\n",
      "  \"type \" + obj.__name__ + \". It won't be checked \"\n",
      "/home/ghazal/myenv/lib/python3.5/site-packages/torch/serialization.py:292: UserWarning: Couldn't retrieve source code for container of type Conv2d. It won't be checked for correctness upon loading.\n",
      "  \"type \" + obj.__name__ + \". It won't be checked \"\n",
      "/home/ghazal/myenv/lib/python3.5/site-packages/torch/serialization.py:292: UserWarning: Couldn't retrieve source code for container of type ReLU. It won't be checked for correctness upon loading.\n",
      "  \"type \" + obj.__name__ + \". It won't be checked \"\n",
      "/home/ghazal/myenv/lib/python3.5/site-packages/torch/serialization.py:292: UserWarning: Couldn't retrieve source code for container of type MaxPool2d. It won't be checked for correctness upon loading.\n",
      "  \"type \" + obj.__name__ + \". It won't be checked \"\n",
      "/home/ghazal/myenv/lib/python3.5/site-packages/torch/serialization.py:292: UserWarning: Couldn't retrieve source code for container of type Sequential. It won't be checked for correctness upon loading.\n",
      "  \"type \" + obj.__name__ + \". It won't be checked \"\n",
      "/home/ghazal/myenv/lib/python3.5/site-packages/torch/serialization.py:292: UserWarning: Couldn't retrieve source code for container of type Bottleneck. It won't be checked for correctness upon loading.\n",
      "  \"type \" + obj.__name__ + \". It won't be checked \"\n",
      "/home/ghazal/myenv/lib/python3.5/site-packages/torch/serialization.py:292: UserWarning: Couldn't retrieve source code for container of type AdaptiveAvgPool2d. It won't be checked for correctness upon loading.\n",
      "  \"type \" + obj.__name__ + \". It won't be checked \"\n",
      "/home/ghazal/myenv/lib/python3.5/site-packages/torch/serialization.py:292: UserWarning: Couldn't retrieve source code for container of type Identity. It won't be checked for correctness upon loading.\n",
      "  \"type \" + obj.__name__ + \". It won't be checked \"\n",
      "/home/ghazal/myenv/lib/python3.5/site-packages/torch/serialization.py:292: UserWarning: Couldn't retrieve source code for container of type Linear. It won't be checked for correctness upon loading.\n",
      "  \"type \" + obj.__name__ + \". It won't be checked \"\n"
     ]
    }
   ],
   "source": [
    "torch.save(net, 'model/net.pth')\n",
    "# torch.save(my_lstm, 'model/lstm.pth')\n",
    "torch.save(net.state_dict(), 'dict/net.pth')\n",
    "# torch.save(my_lstm.state_dict(),'dict/lstm.pth')"
   ]
  },
  {
   "cell_type": "code",
   "execution_count": 14,
   "metadata": {},
   "outputs": [],
   "source": [
    "net=torch.load('model/net.pth')\n",
    "lstm=torch.load('model/lstm.pth')"
   ]
  },
  {
   "cell_type": "code",
   "execution_count": 18,
   "metadata": {},
   "outputs": [
    {
     "name": "stdout",
     "output_type": "stream",
     "text": [
      "iter: 0 loss: 1.8006700277328491\n",
      "iter: 40 loss: 1.9806707188487054\n"
     ]
    },
    {
     "name": "stderr",
     "output_type": "stream",
     "text": [
      "/home/ghazal/myenv/lib/python3.5/site-packages/PIL/TiffImagePlugin.py:802: UserWarning: Corrupt EXIF data.  Expecting to read 2 bytes but only got 0. \n",
      "  warnings.warn(str(msg))\n"
     ]
    },
    {
     "name": "stdout",
     "output_type": "stream",
     "text": [
      "iter: 80 loss: 0.7229006983339786\n",
      "iter: 120 loss: 0.33192871757782993\n",
      "iter: 160 loss: 0.24001495736883954\n",
      "iter: 200 loss: 0.37453461029799656\n",
      "iter: 240 loss: 0.246150165470317\n",
      "iter: 280 loss: 0.219397122481314\n",
      "iter: 320 loss: 0.4632538975449279\n"
     ]
    },
    {
     "name": "stderr",
     "output_type": "stream",
     "text": [
      "/home/ghazal/myenv/lib/python3.5/site-packages/PIL/Image.py:989: UserWarning: Palette images with Transparency expressed in bytes should be converted to RGBA images\n",
      "  \"Palette images with Transparency expressed in bytes should be \"\n"
     ]
    },
    {
     "name": "stdout",
     "output_type": "stream",
     "text": [
      "iter: 360 loss: 0.15764233424561097\n",
      "iter: 400 loss: 0.14035670734592715\n",
      "iter: 440 loss: 0.12643554208334534\n",
      "iter: 480 loss: 0.15277675636170898\n",
      "iter: 520 loss: 0.18269119509495796\n",
      "iter: 560 loss: 0.14529628882592077\n",
      "iter: 600 loss: 0.10608253673999571\n",
      "iter: 640 loss: 0.24364153850001458\n",
      "iter: 680 loss: 0.21783914755797013\n",
      "iter: 720 loss: 0.12049060250428738\n",
      "iter: 760 loss: 0.05889883614145219\n",
      "iter: 800 loss: 0.1441941726452569\n",
      "iter: 840 loss: 0.16355709600393312\n",
      "iter: 880 loss: 0.23879580734937916\n",
      "iter: 920 loss: 0.18872669018455782\n",
      "iter: 960 loss: 0.19180397325690138\n",
      "got_GOT-Meme-9.png\n",
      "iter: 1000 loss: 0.16156741556478665\n",
      "iter: 1040 loss: 0.20722958139376715\n",
      "iter: 1080 loss: 0.1934821947274031\n",
      "iter: 1120 loss: 0.12767799782086514\n",
      "iter: 1160 loss: 0.12187892399088014\n",
      "iter: 1200 loss: 0.11849591797654284\n",
      "iter: 1240 loss: 0.12038316381222103\n",
      "iter: 1280 loss: 0.188626820546051\n",
      "iter: 1320 loss: 0.1170712081300735\n",
      "iter: 1360 loss: 0.046835655619088354\n",
      "in epoch 0 print 0.12535788363391864\n",
      "iter: 0 loss: 0.0019296646350994706\n",
      "iter: 40 loss: 0.07160254980335594\n",
      "iter: 80 loss: 0.07781931004228682\n",
      "iter: 120 loss: 0.1218121743069787\n",
      "iter: 160 loss: 0.23054198121189984\n",
      "iter: 200 loss: 0.1416949703459977\n",
      "got_GOT-Meme-9.png\n",
      "iter: 240 loss: 0.11967330908628356\n",
      "iter: 280 loss: 0.1310160741006257\n",
      "iter: 320 loss: 0.04532517861298402\n",
      "iter: 360 loss: 0.0269308282671318\n",
      "iter: 400 loss: 0.013833322362506806\n",
      "iter: 440 loss: 0.07627296906539413\n",
      "iter: 480 loss: 0.2350019642559346\n",
      "iter: 520 loss: 0.3048092191660544\n",
      "iter: 560 loss: 0.2927213128823496\n",
      "iter: 600 loss: 0.16776491024647838\n",
      "iter: 640 loss: 0.04636064854312281\n",
      "iter: 680 loss: 0.12937176432460545\n",
      "iter: 720 loss: 0.15596846645894402\n",
      "iter: 760 loss: 0.14720678146550198\n",
      "iter: 800 loss: 0.21681765509856632\n",
      "iter: 840 loss: 0.07955451721936697\n",
      "iter: 880 loss: 0.09961376671271864\n",
      "iter: 920 loss: 0.35523663414642215\n",
      "iter: 960 loss: 0.2119881398859434\n",
      "iter: 1000 loss: 0.1354737981717335\n",
      "iter: 1040 loss: 0.23714425158686936\n",
      "iter: 1080 loss: 0.11292451929930394\n",
      "iter: 1120 loss: 0.12241191827961302\n",
      "iter: 1160 loss: 0.08831627503968775\n",
      "iter: 1200 loss: 0.037015662865815105\n",
      "iter: 1240 loss: 0.03509756047014889\n",
      "iter: 1280 loss: 0.05244387471975642\n",
      "iter: 1320 loss: 0.07005333773713573\n",
      "iter: 1360 loss: 0.15575616620262736\n",
      "in epoch 1 print 0.06570992264979135\n",
      "iter: 0 loss: 0.012065554037690163\n",
      "iter: 40 loss: 0.05333169744230872\n",
      "iter: 80 loss: 0.06688082131335307\n",
      "iter: 120 loss: 0.20782238217070698\n",
      "iter: 160 loss: 0.17940362526751413\n",
      "iter: 200 loss: 0.11243914127007884\n",
      "got_GOT-Meme-9.png\n",
      "iter: 240 loss: 0.032943296752637255\n",
      "iter: 280 loss: 0.038686871347454146\n",
      "iter: 320 loss: 0.04839505324248421\n",
      "iter: 360 loss: 0.15552341054426505\n",
      "iter: 400 loss: 0.03559299306521098\n",
      "iter: 440 loss: 0.15390510405995883\n",
      "iter: 480 loss: 0.08821157392230816\n",
      "iter: 520 loss: 0.04875981630802926\n",
      "iter: 560 loss: 0.07767802477865189\n",
      "iter: 600 loss: 0.07524449230281789\n",
      "iter: 640 loss: 0.03537529579589318\n",
      "iter: 680 loss: 0.03638407245189228\n",
      "iter: 720 loss: 0.03824952585459869\n",
      "iter: 760 loss: 0.3736621346023867\n",
      "iter: 800 loss: 0.1492860156635288\n",
      "iter: 840 loss: 0.056863944094948236\n",
      "iter: 880 loss: 0.03353073187245172\n",
      "iter: 920 loss: 0.03441484172390119\n",
      "iter: 960 loss: 0.07976347508811159\n",
      "iter: 1000 loss: 0.10491987608402269\n",
      "iter: 1040 loss: 0.07761594644598517\n",
      "iter: 1080 loss: 0.2714993333855091\n",
      "iter: 1120 loss: 0.16650555563501257\n",
      "iter: 1160 loss: 0.20499255998984153\n",
      "iter: 1200 loss: 0.23897877465933562\n",
      "iter: 1240 loss: 0.12003105058392975\n",
      "iter: 1280 loss: 0.08291945114406189\n",
      "iter: 1320 loss: 0.06850436131687729\n",
      "iter: 1360 loss: 0.0474355710486634\n",
      "in epoch 2 print 0.05171805786197122\n"
     ]
    },
    {
     "data": {
      "text/plain": [
       "<Figure size 432x288 with 0 Axes>"
      ]
     },
     "metadata": {},
     "output_type": "display_data"
    },
    {
     "data": {
      "image/png": "[encoded data removed]",
      "text/plain": [
       "<Figure size 432x288 with 1 Axes>"
      ]
     },
     "metadata": {
      "needs_background": "light"
     },
     "output_type": "display_data"
    }
   ],
   "source": [
    "#load cnn: net\n",
    "image_embed_size=2048\n",
    "import copy\n",
    "cnn_net2=copy.deepcopy(net)\n",
    "cnn_net2.linear=Identity()\n",
    "cnn_net2.cuda()\n",
    "my_lstm2=copy.deepcopy(my_lstm).cuda()\n",
    "# we dont need my_dense anymore and should only use the last sequence ouput of the LSTM ->my_lstm2(last)\n",
    "final_dense=nn.Linear(hidden_size+image_embed_size,output_size).cuda()\n",
    "\n",
    "\n",
    "\n",
    "learning_rate=0.00001\n",
    "optim = torch.optim.Adam(list(cnn_net2.parameters())+list(my_lstm2.parameters())+list(final_dense.parameters()), lr=learning_rate)\n",
    "criterion = nn.CrossEntropyLoss().cuda()\n",
    "num_of_epochs=3\n",
    "batch_size=5\n",
    "steps=len(words_clean)//batch_size\n",
    "gold=Variable(torch.FloatTensor(labels)).cuda()\n",
    "print_every=40\n",
    "plot_every=20\n",
    "plot_losses = []\n",
    "\n",
    "\n",
    "#for loading images\n",
    "default_path='data/train/data_7000/'\n",
    "# x_im,y=prep_Xy(train_df)\n",
    "for epoch in range(num_of_epochs):\n",
    "    \n",
    "\n",
    "    epoch_loss=0.0\n",
    "    cnt=0\n",
    "    print_loss_total = 0  # Reset every print_every\n",
    "    plot_loss_total = 0  # Reset every plot_every\n",
    "    epoch_loss=0\n",
    "    #add randomness on each epoch\n",
    "    shuffled_indcs=torch.randperm(len(words_clean))\n",
    "    num=0\n",
    "    for s in range(steps):\n",
    "        optim.zero_grad()\n",
    "        input_to_lstm=Variable(torch.zeros(sequence_length,batch_size,input_embedding_size)).cuda()\n",
    "        input_to_cnn=Variable(torch.zeros(batch_size,3,224,224)).cuda()\n",
    "        gold_batch=Variable(torch.zeros(batch_size).long()).cuda()\n",
    "        i=0\n",
    "        while i<batch_size:\n",
    "            #manually form a batch, i is for counting each data point\n",
    "            if num==len(words_clean):\n",
    "                num=0\n",
    "            if len(words_clean[shuffled_indcs[num].item()])<sequence_length:\n",
    "                #if sentence is shorter than the number of our LSTM cells, keep loading the batches\n",
    "                im_path=train_df[0][shuffled_indcs[num].item()] #path to the current image\n",
    "                try:\n",
    "                    \n",
    "                    input_to_cnn[i,:,:,:]=load_image(default_path+im_path)\n",
    "                except:\n",
    "                    #in case the image is cirrupted and can't be loaded\n",
    "                    print(im_path)\n",
    "                    num=num+1\n",
    "                    continue\n",
    "                #now load each word's embedding to form the input of the LSTM\n",
    "                for j in range( len(words_clean[shuffled_indcs[num].item()])):\n",
    "                    if words_clean[shuffled_indcs[num].item()][j] in weight_indcs:\n",
    "                        ind=weight_indcs[words_clean[shuffled_indcs[num].item()][j]]\n",
    "                        \n",
    "                        input_to_lstm[j,i,:]=(torch.cuda.FloatTensor(weights_matrix[ind]))\n",
    "                \n",
    "\n",
    "                #load labels\n",
    "                gold_batch[i]=gold[shuffled_indcs[num].item()]\n",
    "                i +=1\n",
    "            num+=1\n",
    "        \n",
    "        lstm_hidden_sequence=my_lstm2(input_to_lstm)[0].cuda()\n",
    "        lstm_last_hidden=lstm_hidden_sequence[sequence_length-1]\n",
    "                              \n",
    "        cnn_out=cnn_net2(input_to_cnn)\n",
    "        \n",
    "        embeds = torch.cat((lstm_last_hidden, cnn_out), dim=1).cuda()\n",
    "        \n",
    "        preds=final_dense(embeds)\n",
    "                              \n",
    "        loss = criterion(preds,gold_batch).cuda()\n",
    "        print_loss_total += loss.item()\n",
    "        plot_loss_total += loss.item()\n",
    "        cnt+=1\n",
    "        epoch_loss += loss.item()\n",
    "        \n",
    "        loss.backward()\n",
    "        optim.step()\n",
    "        \n",
    "        if s % print_every == 0:\n",
    "            print_loss_avg = print_loss_total / cnt\n",
    "            print_loss_total = 0\n",
    "            print(\"iter:\",s,\"loss:\", print_loss_avg)\n",
    "\n",
    "        if s % plot_every == 0:\n",
    "            plot_loss_avg = plot_loss_total / cnt\n",
    "            plot_losses.append(plot_loss_avg)\n",
    "            plot_loss_total = 0\n",
    "            cnt=0\n",
    "    print(\"in epoch\", epoch, \"print\", epoch_loss/steps)\n",
    "showPlot(plot_losses)\n",
    "\n"
   ]
  },
  {
   "cell_type": "markdown",
   "metadata": {},
   "source": [
    "# B) Eval"
   ]
  },
  {
   "cell_type": "code",
   "execution_count": 19,
   "metadata": {},
   "outputs": [
    {
     "name": "stdout",
     "output_type": "stream",
     "text": [
      "accuracy =  0.45\n"
     ]
    }
   ],
   "source": [
    "#Evaluate on test set\n",
    "l=len(words_clean_val)\n",
    "im_size=(3,224,224)\n",
    "\n",
    "num=0\n",
    "# for i in range(l):     \n",
    "#     if len(words_clean_val[i])<sequence_length:\n",
    "#         num +=1\n",
    "num=20\n",
    "default_path='data/train/data_7000/'\n",
    "gold_val=Variable(torch.FloatTensor(labels_val)).cuda()\n",
    "input_to_lstm=Variable(torch.zeros(sequence_length,num,input_embedding_size)).cuda()\n",
    "input_to_cnn=Variable(torch.zeros(num,*im_size)).cuda()\n",
    "gold_batch=Variable(torch.zeros(num).long()).cuda()\n",
    "for i in range(num):     \n",
    "    if len(words_clean_val[i])<sequence_length:\n",
    "        for j in range(len(words_clean_val[i])):\n",
    "            if words_clean_val[i][j] in weight_indcs:\n",
    "                ind=weight_indcs[words_clean_val[i][j]]\n",
    "                input_to_lstm[j,i,:]=(torch.cuda.FloatTensor(weights_matrix[ind]))\n",
    "        im_path=train_df[0][i]\n",
    "        input_to_cnn[i,:,:,:]=load_image(default_path+im_path)\n",
    "        gold_batch[i]=gold_val[i]\n",
    "\n",
    "lstm_hidden_sequence=my_lstm2(input_to_lstm)[0].cuda()\n",
    "lstm_last_hidden=lstm_hidden_sequence[sequence_length-1]\n",
    "\n",
    "cnn_out=cnn_net2(input_to_cnn)\n",
    "\n",
    "embeds = torch.cat((lstm_last_hidden, cnn_out), dim=1).cuda()\n",
    "\n",
    "preds=final_dense(embeds)\n",
    "                      \n",
    "                      \n",
    "acc=0\n",
    "for i in range(num):\n",
    "    if preds[i].topk(1).indices.item()==int(gold_val[i].item()):\n",
    "        acc +=1\n",
    "print(\"accuracy = \", acc/num)"
   ]
  },
  {
   "cell_type": "code",
   "execution_count": 57,
   "metadata": {},
   "outputs": [],
   "source": [
    "torch.save(cnn_net2, 'model/last_net.pth')\n",
    "torch.save(my_lstm2, 'model/last_lstm.pth')\n",
    "torch.save(cnn_net2.state_dict(), 'dict/last_net.pth')\n",
    "torch.save(my_lstm2.state_dict(),'dict/last_lstm.pth')"
   ]
  },
  {
   "cell_type": "code",
   "execution_count": 11,
   "metadata": {},
   "outputs": [],
   "source": [
    "cnn_net2=torch.load('model/last_net.pth')\n",
    "my_lstm2=torch.load('model/last_lstm.pth')"
   ]
  },
  {
   "cell_type": "code",
   "execution_count": null,
   "metadata": {},
   "outputs": [],
   "source": [
    "net=cnn_net"
   ]
  }
 ],
 "metadata": {
  "kernelspec": {
   "display_name": "Python 3",
   "language": "python",
   "name": "python3"
  },
  "language_info": {
   "codemirror_mode": {
    "name": "ipython",
    "version": 3
   },
   "file_extension": ".py",
   "mimetype": "text/x-python",
   "name": "python",
   "nbconvert_exporter": "python",
   "pygments_lexer": "ipython3",
   "version": "3.5.2"
  }
 },
 "nbformat": 4,
 "nbformat_minor": 4
}
