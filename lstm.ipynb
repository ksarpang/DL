{
 "cells": [
  {
   "cell_type": "code",
   "execution_count": 1,
   "metadata": {},
   "outputs": [
    {
     "name": "stdout",
     "output_type": "stream",
     "text": [
      "0     hilarious\n",
      "1     not_funny\n",
      "2    very_funny\n",
      "8         funny\n",
      "Name: 4, dtype: object\n",
      "0            general\n",
      "2      not_sarcastic\n",
      "3    twisted_meaning\n",
      "4       very_twisted\n",
      "Name: 5, dtype: object\n",
      "0          not_offensive\n",
      "3         very_offensive\n",
      "5                 slight\n",
      "148    hateful_offensive\n",
      "Name: 6, dtype: object\n",
      "0    not_motivational\n",
      "1        motivational\n",
      "Name: 7, dtype: object\n",
      "0     very_positive\n",
      "2          positive\n",
      "4           neutral\n",
      "5          negative\n",
      "14    very_negative\n",
      "Name: 8, dtype: object\n"
     ]
    }
   ],
   "source": [
    "# data load\n",
    "import pprint as pp\n",
    "import pandas as pd\n",
    "from tqdm import tqdm\n",
    "\n",
    "\n",
    "# line 727/728 of train is broken, need new line\n",
    "# valid_df = pd.read_csv('data/valid/data1.csv')\n",
    "# train_df = pd.read_csv('data/train/data_7000_new.csv', header=None)\n",
    "\n",
    "def load(path: str) -> list:\n",
    "    data = []\n",
    "    with open(path) as reader:\n",
    "        for i, line in enumerate(reader):\n",
    "            splits = line.replace('\\n', '').split(',')\n",
    "            data.append(splits)\n",
    "    return data\n",
    "\n",
    "\n",
    "valid_df = pd.DataFrame(data=load('data/valid/data1.csv')[1:])\n",
    "train_df = pd.DataFrame(data=load('data/train/data_7000_new.csv'))\n",
    "\n",
    "# show scales\n",
    "for i in range(4, 9):\n",
    "    pp.pprint(pd.concat([\n",
    "        train_df[train_df.columns[i]].drop_duplicates(),\n",
    "        valid_df[valid_df.columns[i]].drop_duplicates()\n",
    "    ]).drop_duplicates())\n",
    "\n",
    "funny = {\n",
    "    'hilarious': 3,\n",
    "    'very_funny': 2,\n",
    "    'funny': 1,\n",
    "    'not_funny': 0\n",
    "}\n",
    "\n",
    "sarcasm = {\n",
    "    'general': 1,\n",
    "    'not_sarcastic': 0,\n",
    "    'twisted_meaning': 2,\n",
    "    'very_twisted': 3\n",
    "}\n",
    "\n",
    "offensive = {\n",
    "    'hateful_offensive': 3,\n",
    "    'very_offensive': 2,\n",
    "    'slight': 1,\n",
    "    'not_offensive': 0,\n",
    "}\n",
    "\n",
    "motivation = {\n",
    "    'motivational': 1,\n",
    "    'not_motivational': 0}\n",
    "\n",
    "positive = {\n",
    "    'very_positive': 4,\n",
    "    'positive': 3,\n",
    "    'neutral': 2,\n",
    "    'negative': 1,\n",
    "    'very_negative': 0}\n"
   ]
  },
  {
   "cell_type": "code",
   "execution_count": 2,
   "metadata": {},
   "outputs": [],
   "source": [
    "import re\n",
    "sentences2=[sent for sent in train_df[3]]\n",
    "sent2_val=[sent for sent in valid_df[2]]\n",
    "\n",
    "cleaned_sent=[]\n",
    "cleaned_sent_val=[]\n",
    "\n",
    "for s in sentences2:\n",
    "    k=re.search(r'\\d{1,2}:\\d{2} (AM|PM)', s)\n",
    "    if k is not None:\n",
    "        ind=k.span()[0]\n",
    "        new_cleaned_s=s[0:ind]\n",
    "        cleaned_sent.append(new_cleaned_s)\n",
    "    else:\n",
    "        cleaned_sent.append(s)\n",
    "\n",
    "for s in sent2_val:\n",
    "    k=re.search(r'\\d{1,2}:\\d{2} (AM|PM)', s)\n",
    "    if k is not None:\n",
    "        ind=k.span()[0]\n",
    "        new_cleaned_s=s[0:ind]\n",
    "        cleaned_sent_val.append(new_cleaned_s)\n",
    "    else:\n",
    "        cleaned_sent_val.append(s)\n",
    "\n"
   ]
  },
  {
   "cell_type": "code",
   "execution_count": 3,
   "metadata": {},
   "outputs": [
    {
     "name": "stdout",
     "output_type": "stream",
     "text": [
      "7000\n",
      "1000\n"
     ]
    }
   ],
   "source": [
    "labels=[positive[label] for label in train_df[8]]\n",
    "labels_val=[positive[label] for label in valid_df[8]]\n",
    "print(len(labels))\n",
    "print(len(labels_val))\n"
   ]
  },
  {
   "cell_type": "code",
   "execution_count": 4,
   "metadata": {},
   "outputs": [],
   "source": [
    "import preprocessor as p\n",
    "cleaned_2=[]\n",
    "cleaned_val=[]\n",
    "for doc in cleaned_sent:\n",
    "    p.set_options(p.OPT.URL, p.OPT.MENTION, p.OPT.RESERVED, p.OPT.NUMBER)\n",
    "    cleaned_tweet=p.clean(doc)\n",
    "    cleaned_2.append(cleaned_tweet)\n",
    "    \n",
    "for doc in cleaned_sent_val:\n",
    "    p.set_options(p.OPT.URL, p.OPT.MENTION, p.OPT.RESERVED, p.OPT.NUMBER)\n",
    "    cleaned_tweet=p.clean(doc)\n",
    "    cleaned_val.append(cleaned_tweet)\n",
    "    \n",
    "    "
   ]
  },
  {
   "cell_type": "code",
   "execution_count": 5,
   "metadata": {},
   "outputs": [
    {
     "name": "stdout",
     "output_type": "stream",
     "text": [
      "LOOK THERE MY FRIEND LIGHTYEAR NOW ALL SOHALIKUT TREND PLAY THE YEARS CHALLENGE AT FACEBOOK imgflip.com\n",
      "The best of #10 YearChallenge! Completed in less the years. Kudus to ji\n",
      "Sam Thorne ( Follow Follow Saw everyone posting these vs pics so here's mine\n",
      "\n",
      "\n",
      "LOOK THERE MY FRIEND LIGHTYEAR NOW ALL SOHALIKUT TREND PLAY THE 10 YEARS CHALLENGE AT FACEBOOK imgflip.com \n",
      "The best of #10 YearChallenge! Completed in less the 4 years. Kudus to @narendramodi ji \n",
      "Sam Thorne @Strippin ( Follow Follow Saw everyone posting these 2009 vs 2019 pics so here's mine \n",
      "ISAW DAD WITH MOM LASTNIGHT I THINK HE WAS STEALING MY MILK. quickmeme.com\n",
      "HOW AM I STILL BREATHING IF SHE HAS MY NOSE? quinne.com\n",
      "YOU MEAN TO TELL ME BIGG BOSSIS BETTER THAN KBC!!! The original photo\n",
      "\n",
      "\n",
      "ISAW DAD WITH MOM LASTNIGHT I THINK HE WAS STEALING MY MILK. quickmeme.com \n",
      "HOW AM I STILL BREATHING IF SHE HAS MY NOSE? quinne.com \n",
      "YOU MEAN TO TELL ME BIGG BOSSIS BETTER THAN KBC!!! The original photo \n"
     ]
    }
   ],
   "source": [
    "print(cleaned_2[0])\n",
    "print(cleaned_2[1])\n",
    "print(cleaned_2[2])\n",
    "print(\"\\n\")\n",
    "print(cleaned_sent[0])\n",
    "print(cleaned_sent[1])\n",
    "print(cleaned_sent[2])\n",
    "\n",
    "\n",
    "\n",
    "print(cleaned_val[0])\n",
    "print(cleaned_val[1])\n",
    "print(cleaned_val[2])\n",
    "print(\"\\n\")\n",
    "print(cleaned_sent_val[0])\n",
    "print(cleaned_sent_val[1])\n",
    "print(cleaned_sent_val[2])"
   ]
  },
  {
   "cell_type": "code",
   "execution_count": 6,
   "metadata": {},
   "outputs": [
    {
     "name": "stderr",
     "output_type": "stream",
     "text": [
      "[nltk_data] Downloading package stopwords to /home/eric/nltk_data...\n",
      "[nltk_data]   Package stopwords is already up-to-date!\n",
      "[nltk_data] Downloading package punkt to /home/eric/nltk_data...\n",
      "[nltk_data]   Package punkt is already up-to-date!\n"
     ]
    }
   ],
   "source": [
    "import string\n",
    "from nltk.tokenize import word_tokenize\n",
    "from collections import Counter\n",
    "from nltk.corpus import stopwords\n",
    "import nltk\n",
    "nltk.download('stopwords')\n",
    "nltk.download('punkt')\n",
    "\n",
    "stop_words=set(stopwords.words('english'))\n",
    "words_clean=[]\n",
    "words_clean_val=[]\n",
    "for doc in cleaned_2:\n",
    "    #to remove punctuation using puncutation marks defined in the string library\n",
    "    doc_clean=doc.translate(str.maketrans('','', string.punctuation))\n",
    "    #to remove numbers\n",
    "    doc_clean=doc_clean.translate(str.maketrans('','', '0123456789'))\n",
    "    #tokenize the reviews using nltk library and make them lowercase\n",
    "    wordlist=word_tokenize(doc_clean.lower())\n",
    "    new_word_list=[]\n",
    "    for word in wordlist:\n",
    "        if word not in stop_words:\n",
    "            new_word_list.append(word)\n",
    "    words_clean.append(new_word_list)\n",
    "    \n",
    "for doc in cleaned_val:\n",
    "    #to remove punctuation using puncutation marks defined in the string library\n",
    "    doc_clean=doc.translate(str.maketrans('','', string.punctuation))\n",
    "    #to remove numbers\n",
    "    doc_clean=doc_clean.translate(str.maketrans('','', '0123456789'))\n",
    "    #tokenize the reviews using nltk library and make them lowercase\n",
    "    wordlist=word_tokenize(doc_clean.lower())\n",
    "    new_word_list=[]\n",
    "    for word in wordlist:\n",
    "        if word not in stop_words:\n",
    "            new_word_list.append(word)\n",
    "    words_clean_val.append(new_word_list)\n"
   ]
  },
  {
   "cell_type": "code",
   "execution_count": 7,
   "metadata": {},
   "outputs": [],
   "source": [
    "import torch\n",
    "import torch.nn.functional as F\n",
    "from torch import nn\n",
    "from torch.autograd import Variable"
   ]
  },
  {
   "cell_type": "code",
   "execution_count": 8,
   "metadata": {},
   "outputs": [
    {
     "data": {
      "text/plain": [
       "Linear(in_features=300, out_features=5, bias=True)"
      ]
     },
     "execution_count": 8,
     "metadata": {},
     "output_type": "execute_result"
    }
   ],
   "source": [
    "input_embedding_size=50\n",
    "hidden_size=300\n",
    "output_size=5\n",
    "sequence_length=19\n",
    "# my_input.view(1, 1, -1)\n",
    "my_lstm=nn.LSTM(input_embedding_size,hidden_size,sequence_length)\n",
    "my_dense=nn.Linear(hidden_size,output_size)\n",
    "# lstm_model=MyLSTM(embedding_size, hidden_size,output_size)\n",
    "my_lstm.cuda()\n",
    "my_dense.cuda()"
   ]
  },
  {
   "cell_type": "code",
   "execution_count": 9,
   "metadata": {},
   "outputs": [
    {
     "name": "stdout",
     "output_type": "stream",
     "text": [
      "done\n"
     ]
    }
   ],
   "source": [
    "import pickle as p\n",
    "import os\n",
    "\n",
    "weights_matrix = p.load(open('glove_pretrained/glove.twitter.27B/27B.50_weightMatrix.pkl', 'rb'))\n",
    "weight_indcs = p.load(open('glove_pretrained/glove.twitter.27B/27B.50_weight_indexes.pkl', 'rb'))\n",
    "print(\"done\")"
   ]
  },
  {
   "cell_type": "code",
   "execution_count": 10,
   "metadata": {},
   "outputs": [],
   "source": [
    "%matplotlib inline\n",
    "import matplotlib.pyplot as plt\n",
    "plt.switch_backend('agg')\n",
    "import matplotlib.ticker as ticker\n",
    "# import numpy as np\n",
    "\n",
    "def showPlot(points):\n",
    "    plt.figure()\n",
    "    fig, ax = plt.subplots()\n",
    "    # this locator puts ticks at regular intervals\n",
    "    loc = ticker.MultipleLocator(base=0.2)\n",
    "    ax.yaxis.set_major_locator(loc)\n",
    "    plt.plot(points)"
   ]
  },
  {
   "cell_type": "code",
   "execution_count": 11,
   "metadata": {},
   "outputs": [
    {
     "name": "stderr",
     "output_type": "stream",
     "text": [
      "  1%|          | 1/100 [00:03<06:10,  3.74s/it]"
     ]
    },
    {
     "name": "stdout",
     "output_type": "stream",
     "text": [
      "in epoch 0 print 1.4563742677370708\n"
     ]
    },
    {
     "name": "stderr",
     "output_type": "stream",
     "text": [
      "  2%|▏         | 2/100 [00:07<06:11,  3.79s/it]"
     ]
    },
    {
     "name": "stdout",
     "output_type": "stream",
     "text": [
      "in epoch 1 print 1.2840967575709026\n"
     ]
    },
    {
     "name": "stderr",
     "output_type": "stream",
     "text": [
      "  3%|▎         | 3/100 [00:11<06:12,  3.84s/it]"
     ]
    },
    {
     "name": "stdout",
     "output_type": "stream",
     "text": [
      "in epoch 2 print 1.2796609997749329\n"
     ]
    },
    {
     "name": "stderr",
     "output_type": "stream",
     "text": [
      "  4%|▍         | 4/100 [00:15<06:11,  3.87s/it]"
     ]
    },
    {
     "name": "stdout",
     "output_type": "stream",
     "text": [
      "in epoch 3 print 1.274989624818166\n"
     ]
    },
    {
     "name": "stderr",
     "output_type": "stream",
     "text": [
      "  5%|▌         | 5/100 [00:19<06:09,  3.89s/it]"
     ]
    },
    {
     "name": "stdout",
     "output_type": "stream",
     "text": [
      "in epoch 4 print 1.2696515520413716\n"
     ]
    },
    {
     "name": "stderr",
     "output_type": "stream",
     "text": [
      "  6%|▌         | 6/100 [00:23<06:06,  3.90s/it]"
     ]
    },
    {
     "name": "stdout",
     "output_type": "stream",
     "text": [
      "in epoch 5 print 1.2762176990509033\n"
     ]
    },
    {
     "name": "stderr",
     "output_type": "stream",
     "text": [
      "  7%|▋         | 7/100 [00:27<06:04,  3.92s/it]"
     ]
    },
    {
     "name": "stdout",
     "output_type": "stream",
     "text": [
      "in epoch 6 print 1.2688578963279724\n"
     ]
    },
    {
     "name": "stderr",
     "output_type": "stream",
     "text": [
      "  8%|▊         | 8/100 [00:31<06:01,  3.93s/it]"
     ]
    },
    {
     "name": "stdout",
     "output_type": "stream",
     "text": [
      "in epoch 7 print 1.27578604221344\n"
     ]
    },
    {
     "name": "stderr",
     "output_type": "stream",
     "text": [
      "  9%|▉         | 9/100 [00:35<05:58,  3.94s/it]"
     ]
    },
    {
     "name": "stdout",
     "output_type": "stream",
     "text": [
      "in epoch 8 print 1.2725929617881775\n"
     ]
    },
    {
     "name": "stderr",
     "output_type": "stream",
     "text": [
      " 10%|█         | 10/100 [00:39<05:54,  3.94s/it]"
     ]
    },
    {
     "name": "stdout",
     "output_type": "stream",
     "text": [
      "in epoch 9 print 1.2710132797559102\n"
     ]
    },
    {
     "name": "stderr",
     "output_type": "stream",
     "text": [
      " 11%|█         | 11/100 [00:43<05:50,  3.94s/it]"
     ]
    },
    {
     "name": "stdout",
     "output_type": "stream",
     "text": [
      "in epoch 10 print 1.2745555241902669\n"
     ]
    },
    {
     "name": "stderr",
     "output_type": "stream",
     "text": [
      " 12%|█▏        | 12/100 [00:47<05:46,  3.94s/it]"
     ]
    },
    {
     "name": "stdout",
     "output_type": "stream",
     "text": [
      "in epoch 11 print 1.2702365517616272\n"
     ]
    },
    {
     "name": "stderr",
     "output_type": "stream",
     "text": [
      " 13%|█▎        | 13/100 [00:51<05:43,  3.95s/it]"
     ]
    },
    {
     "name": "stdout",
     "output_type": "stream",
     "text": [
      "in epoch 12 print 1.2698304653167725\n"
     ]
    },
    {
     "name": "stderr",
     "output_type": "stream",
     "text": [
      " 14%|█▍        | 14/100 [00:55<05:39,  3.95s/it]"
     ]
    },
    {
     "name": "stdout",
     "output_type": "stream",
     "text": [
      "in epoch 13 print 1.271292507648468\n"
     ]
    },
    {
     "name": "stderr",
     "output_type": "stream",
     "text": [
      " 15%|█▌        | 15/100 [00:58<05:36,  3.96s/it]"
     ]
    },
    {
     "name": "stdout",
     "output_type": "stream",
     "text": [
      "in epoch 14 print 1.2669587930043538\n"
     ]
    },
    {
     "name": "stderr",
     "output_type": "stream",
     "text": [
      " 16%|█▌        | 16/100 [01:02<05:32,  3.96s/it]"
     ]
    },
    {
     "name": "stdout",
     "output_type": "stream",
     "text": [
      "in epoch 15 print 1.2726563215255737\n"
     ]
    },
    {
     "name": "stderr",
     "output_type": "stream",
     "text": [
      " 17%|█▋        | 17/100 [01:06<05:28,  3.96s/it]"
     ]
    },
    {
     "name": "stdout",
     "output_type": "stream",
     "text": [
      "in epoch 16 print 1.2697883049647014\n"
     ]
    },
    {
     "name": "stderr",
     "output_type": "stream",
     "text": [
      " 18%|█▊        | 18/100 [01:10<05:24,  3.96s/it]"
     ]
    },
    {
     "name": "stdout",
     "output_type": "stream",
     "text": [
      "in epoch 17 print 1.273624877134959\n"
     ]
    },
    {
     "name": "stderr",
     "output_type": "stream",
     "text": [
      " 19%|█▉        | 19/100 [01:14<05:20,  3.95s/it]"
     ]
    },
    {
     "name": "stdout",
     "output_type": "stream",
     "text": [
      "in epoch 18 print 1.2685909668604534\n"
     ]
    },
    {
     "name": "stderr",
     "output_type": "stream",
     "text": [
      " 20%|██        | 20/100 [01:18<05:17,  3.96s/it]"
     ]
    },
    {
     "name": "stdout",
     "output_type": "stream",
     "text": [
      "in epoch 19 print 1.2678923606872559\n"
     ]
    },
    {
     "name": "stderr",
     "output_type": "stream",
     "text": [
      " 21%|██        | 21/100 [01:22<05:11,  3.95s/it]"
     ]
    },
    {
     "name": "stdout",
     "output_type": "stream",
     "text": [
      "in epoch 20 print 1.271878957748413\n"
     ]
    },
    {
     "name": "stderr",
     "output_type": "stream",
     "text": [
      " 22%|██▏       | 22/100 [01:26<05:06,  3.93s/it]"
     ]
    },
    {
     "name": "stdout",
     "output_type": "stream",
     "text": [
      "in epoch 21 print 1.2676233251889546\n"
     ]
    },
    {
     "name": "stderr",
     "output_type": "stream",
     "text": [
      " 23%|██▎       | 23/100 [01:30<05:02,  3.93s/it]"
     ]
    },
    {
     "name": "stdout",
     "output_type": "stream",
     "text": [
      "in epoch 22 print 1.2692420879999797\n"
     ]
    },
    {
     "name": "stderr",
     "output_type": "stream",
     "text": [
      " 24%|██▍       | 24/100 [01:34<04:57,  3.92s/it]"
     ]
    },
    {
     "name": "stdout",
     "output_type": "stream",
     "text": [
      "in epoch 23 print 1.2740087906519573\n"
     ]
    },
    {
     "name": "stderr",
     "output_type": "stream",
     "text": [
      " 25%|██▌       | 25/100 [01:38<04:53,  3.91s/it]"
     ]
    },
    {
     "name": "stdout",
     "output_type": "stream",
     "text": [
      "in epoch 24 print 1.2716813882191975\n"
     ]
    },
    {
     "name": "stderr",
     "output_type": "stream",
     "text": [
      " 26%|██▌       | 26/100 [01:42<04:48,  3.90s/it]"
     ]
    },
    {
     "name": "stdout",
     "output_type": "stream",
     "text": [
      "in epoch 25 print 1.2719898223876953\n"
     ]
    },
    {
     "name": "stderr",
     "output_type": "stream",
     "text": [
      " 27%|██▋       | 27/100 [01:46<04:44,  3.90s/it]"
     ]
    },
    {
     "name": "stdout",
     "output_type": "stream",
     "text": [
      "in epoch 26 print 1.271252691745758\n"
     ]
    },
    {
     "name": "stderr",
     "output_type": "stream",
     "text": [
      " 28%|██▊       | 28/100 [01:49<04:41,  3.90s/it]"
     ]
    },
    {
     "name": "stdout",
     "output_type": "stream",
     "text": [
      "in epoch 27 print 1.2712113658587139\n"
     ]
    },
    {
     "name": "stderr",
     "output_type": "stream",
     "text": [
      " 29%|██▉       | 29/100 [01:53<04:37,  3.90s/it]"
     ]
    },
    {
     "name": "stdout",
     "output_type": "stream",
     "text": [
      "in epoch 28 print 1.2687350710233052\n"
     ]
    },
    {
     "name": "stderr",
     "output_type": "stream",
     "text": [
      " 30%|███       | 30/100 [01:57<04:33,  3.90s/it]"
     ]
    },
    {
     "name": "stdout",
     "output_type": "stream",
     "text": [
      "in epoch 29 print 1.2679695685704548\n"
     ]
    },
    {
     "name": "stderr",
     "output_type": "stream",
     "text": [
      " 31%|███       | 31/100 [02:01<04:29,  3.90s/it]"
     ]
    },
    {
     "name": "stdout",
     "output_type": "stream",
     "text": [
      "in epoch 30 print 1.2704271078109741\n"
     ]
    },
    {
     "name": "stderr",
     "output_type": "stream",
     "text": [
      " 32%|███▏      | 32/100 [02:05<04:25,  3.90s/it]"
     ]
    },
    {
     "name": "stdout",
     "output_type": "stream",
     "text": [
      "in epoch 31 print 1.2700559099515278\n"
     ]
    },
    {
     "name": "stderr",
     "output_type": "stream",
     "text": [
      " 33%|███▎      | 33/100 [02:09<04:21,  3.90s/it]"
     ]
    },
    {
     "name": "stdout",
     "output_type": "stream",
     "text": [
      "in epoch 32 print 1.2667538523674011\n"
     ]
    },
    {
     "name": "stderr",
     "output_type": "stream",
     "text": [
      " 34%|███▍      | 34/100 [02:13<04:17,  3.90s/it]"
     ]
    },
    {
     "name": "stdout",
     "output_type": "stream",
     "text": [
      "in epoch 33 print 1.2739172180493672\n"
     ]
    },
    {
     "name": "stderr",
     "output_type": "stream",
     "text": [
      " 35%|███▌      | 35/100 [02:17<04:13,  3.90s/it]"
     ]
    },
    {
     "name": "stdout",
     "output_type": "stream",
     "text": [
      "in epoch 34 print 1.2718072533607483\n"
     ]
    },
    {
     "name": "stderr",
     "output_type": "stream",
     "text": [
      " 36%|███▌      | 36/100 [02:21<04:09,  3.90s/it]"
     ]
    },
    {
     "name": "stdout",
     "output_type": "stream",
     "text": [
      "in epoch 35 print 1.27288818359375\n"
     ]
    },
    {
     "name": "stderr",
     "output_type": "stream",
     "text": [
      " 37%|███▋      | 37/100 [02:25<04:05,  3.90s/it]"
     ]
    },
    {
     "name": "stdout",
     "output_type": "stream",
     "text": [
      "in epoch 36 print 1.2745534777641296\n"
     ]
    },
    {
     "name": "stderr",
     "output_type": "stream",
     "text": [
      " 38%|███▊      | 38/100 [02:28<04:01,  3.90s/it]"
     ]
    },
    {
     "name": "stdout",
     "output_type": "stream",
     "text": [
      "in epoch 37 print 1.2727139989535015\n"
     ]
    },
    {
     "name": "stderr",
     "output_type": "stream",
     "text": [
      " 39%|███▉      | 39/100 [02:32<03:57,  3.90s/it]"
     ]
    },
    {
     "name": "stdout",
     "output_type": "stream",
     "text": [
      "in epoch 38 print 1.27253125111262\n"
     ]
    },
    {
     "name": "stderr",
     "output_type": "stream",
     "text": [
      " 40%|████      | 40/100 [02:36<03:53,  3.90s/it]"
     ]
    },
    {
     "name": "stdout",
     "output_type": "stream",
     "text": [
      "in epoch 39 print 1.2682168285051982\n"
     ]
    },
    {
     "name": "stderr",
     "output_type": "stream",
     "text": [
      " 41%|████      | 41/100 [02:40<03:50,  3.90s/it]"
     ]
    },
    {
     "name": "stdout",
     "output_type": "stream",
     "text": [
      "in epoch 40 print 1.2707919279734294\n"
     ]
    },
    {
     "name": "stderr",
     "output_type": "stream",
     "text": [
      " 42%|████▏     | 42/100 [02:44<03:46,  3.90s/it]"
     ]
    },
    {
     "name": "stdout",
     "output_type": "stream",
     "text": [
      "in epoch 41 print 1.2724170287450154\n"
     ]
    },
    {
     "name": "stderr",
     "output_type": "stream",
     "text": [
      " 43%|████▎     | 43/100 [02:48<03:42,  3.90s/it]"
     ]
    },
    {
     "name": "stdout",
     "output_type": "stream",
     "text": [
      "in epoch 42 print 1.2713728944460552\n"
     ]
    },
    {
     "name": "stderr",
     "output_type": "stream",
     "text": [
      " 44%|████▍     | 44/100 [02:52<03:38,  3.90s/it]"
     ]
    },
    {
     "name": "stdout",
     "output_type": "stream",
     "text": [
      "in epoch 43 print 1.2729232708613079\n"
     ]
    },
    {
     "name": "stderr",
     "output_type": "stream",
     "text": [
      " 45%|████▌     | 45/100 [02:56<03:34,  3.89s/it]"
     ]
    },
    {
     "name": "stdout",
     "output_type": "stream",
     "text": [
      "in epoch 44 print 1.2712541222572327\n"
     ]
    },
    {
     "name": "stderr",
     "output_type": "stream",
     "text": [
      " 46%|████▌     | 46/100 [03:00<03:30,  3.89s/it]"
     ]
    },
    {
     "name": "stdout",
     "output_type": "stream",
     "text": [
      "in epoch 45 print 1.275072495142619\n"
     ]
    },
    {
     "name": "stderr",
     "output_type": "stream",
     "text": [
      " 47%|████▋     | 47/100 [03:04<03:26,  3.90s/it]"
     ]
    },
    {
     "name": "stdout",
     "output_type": "stream",
     "text": [
      "in epoch 46 print 1.2735267480214436\n"
     ]
    },
    {
     "name": "stderr",
     "output_type": "stream",
     "text": [
      " 48%|████▊     | 48/100 [03:07<03:22,  3.90s/it]"
     ]
    },
    {
     "name": "stdout",
     "output_type": "stream",
     "text": [
      "in epoch 47 print 1.271845817565918\n"
     ]
    },
    {
     "name": "stderr",
     "output_type": "stream",
     "text": [
      " 49%|████▉     | 49/100 [03:11<03:18,  3.90s/it]"
     ]
    },
    {
     "name": "stdout",
     "output_type": "stream",
     "text": [
      "in epoch 48 print 1.268609344959259\n"
     ]
    },
    {
     "name": "stderr",
     "output_type": "stream",
     "text": [
      " 50%|█████     | 50/100 [03:15<03:14,  3.89s/it]"
     ]
    },
    {
     "name": "stdout",
     "output_type": "stream",
     "text": [
      "in epoch 49 print 1.271855096022288\n"
     ]
    },
    {
     "name": "stderr",
     "output_type": "stream",
     "text": [
      " 51%|█████     | 51/100 [03:19<03:10,  3.89s/it]"
     ]
    },
    {
     "name": "stdout",
     "output_type": "stream",
     "text": [
      "in epoch 50 print 1.2721265157063801\n"
     ]
    },
    {
     "name": "stderr",
     "output_type": "stream",
     "text": [
      " 52%|█████▏    | 52/100 [03:23<03:06,  3.89s/it]"
     ]
    },
    {
     "name": "stdout",
     "output_type": "stream",
     "text": [
      "in epoch 51 print 1.267225702603658\n"
     ]
    },
    {
     "name": "stderr",
     "output_type": "stream",
     "text": [
      " 53%|█████▎    | 53/100 [03:27<03:03,  3.90s/it]"
     ]
    },
    {
     "name": "stdout",
     "output_type": "stream",
     "text": [
      "in epoch 52 print 1.274422566095988\n"
     ]
    },
    {
     "name": "stderr",
     "output_type": "stream",
     "text": [
      " 54%|█████▍    | 54/100 [03:31<02:59,  3.90s/it]"
     ]
    },
    {
     "name": "stdout",
     "output_type": "stream",
     "text": [
      "in epoch 53 print 1.2719351053237915\n"
     ]
    },
    {
     "name": "stderr",
     "output_type": "stream",
     "text": [
      " 55%|█████▌    | 55/100 [03:35<02:55,  3.90s/it]"
     ]
    },
    {
     "name": "stdout",
     "output_type": "stream",
     "text": [
      "in epoch 54 print 1.270300606886546\n"
     ]
    },
    {
     "name": "stderr",
     "output_type": "stream",
     "text": [
      " 56%|█████▌    | 56/100 [03:39<02:51,  3.89s/it]"
     ]
    },
    {
     "name": "stdout",
     "output_type": "stream",
     "text": [
      "in epoch 55 print 1.273444930712382\n"
     ]
    },
    {
     "name": "stderr",
     "output_type": "stream",
     "text": [
      " 57%|█████▋    | 57/100 [03:43<02:47,  3.90s/it]"
     ]
    },
    {
     "name": "stdout",
     "output_type": "stream",
     "text": [
      "in epoch 56 print 1.2706012328465779\n"
     ]
    },
    {
     "name": "stderr",
     "output_type": "stream",
     "text": [
      " 58%|█████▊    | 58/100 [03:46<02:43,  3.90s/it]"
     ]
    },
    {
     "name": "stdout",
     "output_type": "stream",
     "text": [
      "in epoch 57 print 1.2710683743158977\n"
     ]
    },
    {
     "name": "stderr",
     "output_type": "stream",
     "text": [
      " 59%|█████▉    | 59/100 [03:50<02:39,  3.90s/it]"
     ]
    },
    {
     "name": "stdout",
     "output_type": "stream",
     "text": [
      "in epoch 58 print 1.276249368985494\n"
     ]
    },
    {
     "name": "stderr",
     "output_type": "stream",
     "text": [
      " 60%|██████    | 60/100 [03:54<02:35,  3.89s/it]"
     ]
    },
    {
     "name": "stdout",
     "output_type": "stream",
     "text": [
      "in epoch 59 print 1.2708121538162231\n"
     ]
    },
    {
     "name": "stderr",
     "output_type": "stream",
     "text": [
      " 61%|██████    | 61/100 [03:58<02:31,  3.90s/it]"
     ]
    },
    {
     "name": "stdout",
     "output_type": "stream",
     "text": [
      "in epoch 60 print 1.273966908454895\n"
     ]
    },
    {
     "name": "stderr",
     "output_type": "stream",
     "text": [
      " 62%|██████▏   | 62/100 [04:02<02:28,  3.90s/it]"
     ]
    },
    {
     "name": "stdout",
     "output_type": "stream",
     "text": [
      "in epoch 61 print 1.2736405928929646\n"
     ]
    },
    {
     "name": "stderr",
     "output_type": "stream",
     "text": [
      " 63%|██████▎   | 63/100 [04:06<02:24,  3.90s/it]"
     ]
    },
    {
     "name": "stdout",
     "output_type": "stream",
     "text": [
      "in epoch 62 print 1.2732790112495422\n"
     ]
    },
    {
     "name": "stderr",
     "output_type": "stream",
     "text": [
      " 64%|██████▍   | 64/100 [04:10<02:20,  3.90s/it]"
     ]
    },
    {
     "name": "stdout",
     "output_type": "stream",
     "text": [
      "in epoch 63 print 1.269024133682251\n"
     ]
    },
    {
     "name": "stderr",
     "output_type": "stream",
     "text": [
      " 65%|██████▌   | 65/100 [04:14<02:16,  3.90s/it]"
     ]
    },
    {
     "name": "stdout",
     "output_type": "stream",
     "text": [
      "in epoch 64 print 1.270836611588796\n"
     ]
    },
    {
     "name": "stderr",
     "output_type": "stream",
     "text": [
      " 66%|██████▌   | 66/100 [04:18<02:12,  3.90s/it]"
     ]
    },
    {
     "name": "stdout",
     "output_type": "stream",
     "text": [
      "in epoch 65 print 1.2708824276924133\n"
     ]
    },
    {
     "name": "stderr",
     "output_type": "stream",
     "text": [
      " 67%|██████▋   | 67/100 [04:21<02:08,  3.89s/it]"
     ]
    },
    {
     "name": "stdout",
     "output_type": "stream",
     "text": [
      "in epoch 66 print 1.270351529121399\n"
     ]
    },
    {
     "name": "stderr",
     "output_type": "stream",
     "text": [
      " 68%|██████▊   | 68/100 [04:25<02:04,  3.90s/it]"
     ]
    },
    {
     "name": "stdout",
     "output_type": "stream",
     "text": [
      "in epoch 67 print 1.2731414039929707\n"
     ]
    },
    {
     "name": "stderr",
     "output_type": "stream",
     "text": [
      " 69%|██████▉   | 69/100 [04:29<02:00,  3.90s/it]"
     ]
    },
    {
     "name": "stdout",
     "output_type": "stream",
     "text": [
      "in epoch 68 print 1.2763410409291585\n"
     ]
    },
    {
     "name": "stderr",
     "output_type": "stream",
     "text": [
      " 70%|███████   | 70/100 [04:33<01:56,  3.90s/it]"
     ]
    },
    {
     "name": "stdout",
     "output_type": "stream",
     "text": [
      "in epoch 69 print 1.26866618792216\n"
     ]
    },
    {
     "name": "stderr",
     "output_type": "stream",
     "text": [
      " 71%|███████   | 71/100 [04:37<01:53,  3.90s/it]"
     ]
    },
    {
     "name": "stdout",
     "output_type": "stream",
     "text": [
      "in epoch 70 print 1.2746735215187073\n"
     ]
    },
    {
     "name": "stderr",
     "output_type": "stream",
     "text": [
      " 72%|███████▏  | 72/100 [04:41<01:49,  3.90s/it]"
     ]
    },
    {
     "name": "stdout",
     "output_type": "stream",
     "text": [
      "in epoch 71 print 1.2721412976582844\n"
     ]
    },
    {
     "name": "stderr",
     "output_type": "stream",
     "text": [
      " 73%|███████▎  | 73/100 [04:45<01:45,  3.90s/it]"
     ]
    },
    {
     "name": "stdout",
     "output_type": "stream",
     "text": [
      "in epoch 72 print 1.2671547333399455\n"
     ]
    },
    {
     "name": "stderr",
     "output_type": "stream",
     "text": [
      " 74%|███████▍  | 74/100 [04:49<01:41,  3.90s/it]"
     ]
    },
    {
     "name": "stdout",
     "output_type": "stream",
     "text": [
      "in epoch 73 print 1.2759389281272888\n"
     ]
    },
    {
     "name": "stderr",
     "output_type": "stream",
     "text": [
      " 75%|███████▌  | 75/100 [04:53<01:37,  3.90s/it]"
     ]
    },
    {
     "name": "stdout",
     "output_type": "stream",
     "text": [
      "in epoch 74 print 1.2710925738016765\n"
     ]
    },
    {
     "name": "stderr",
     "output_type": "stream",
     "text": [
      " 76%|███████▌  | 76/100 [04:57<01:33,  3.89s/it]"
     ]
    },
    {
     "name": "stdout",
     "output_type": "stream",
     "text": [
      "in epoch 75 print 1.2678536375363667\n"
     ]
    },
    {
     "name": "stderr",
     "output_type": "stream",
     "text": [
      " 77%|███████▋  | 77/100 [05:00<01:29,  3.90s/it]"
     ]
    },
    {
     "name": "stdout",
     "output_type": "stream",
     "text": [
      "in epoch 76 print 1.2689716617266338\n"
     ]
    },
    {
     "name": "stderr",
     "output_type": "stream",
     "text": [
      " 78%|███████▊  | 78/100 [05:04<01:25,  3.90s/it]"
     ]
    },
    {
     "name": "stdout",
     "output_type": "stream",
     "text": [
      "in epoch 77 print 1.2720138827959697\n"
     ]
    },
    {
     "name": "stderr",
     "output_type": "stream",
     "text": [
      " 79%|███████▉  | 79/100 [05:08<01:21,  3.90s/it]"
     ]
    },
    {
     "name": "stdout",
     "output_type": "stream",
     "text": [
      "in epoch 78 print 1.2725761731465657\n"
     ]
    },
    {
     "name": "stderr",
     "output_type": "stream",
     "text": [
      " 80%|████████  | 80/100 [05:12<01:17,  3.90s/it]"
     ]
    },
    {
     "name": "stdout",
     "output_type": "stream",
     "text": [
      "in epoch 79 print 1.2716811895370483\n"
     ]
    },
    {
     "name": "stderr",
     "output_type": "stream",
     "text": [
      " 81%|████████  | 81/100 [05:16<01:14,  3.90s/it]"
     ]
    },
    {
     "name": "stdout",
     "output_type": "stream",
     "text": [
      "in epoch 80 print 1.2663817803064983\n"
     ]
    },
    {
     "name": "stderr",
     "output_type": "stream",
     "text": [
      " 82%|████████▏ | 82/100 [05:20<01:10,  3.90s/it]"
     ]
    },
    {
     "name": "stdout",
     "output_type": "stream",
     "text": [
      "in epoch 81 print 1.2696720163027446\n"
     ]
    },
    {
     "name": "stderr",
     "output_type": "stream",
     "text": [
      " 83%|████████▎ | 83/100 [05:24<01:06,  3.90s/it]"
     ]
    },
    {
     "name": "stdout",
     "output_type": "stream",
     "text": [
      "in epoch 82 print 1.2731628219286601\n"
     ]
    },
    {
     "name": "stderr",
     "output_type": "stream",
     "text": [
      " 84%|████████▍ | 84/100 [05:28<01:02,  3.90s/it]"
     ]
    },
    {
     "name": "stdout",
     "output_type": "stream",
     "text": [
      "in epoch 83 print 1.2736203074455261\n"
     ]
    },
    {
     "name": "stderr",
     "output_type": "stream",
     "text": [
      " 85%|████████▌ | 85/100 [05:32<00:58,  3.90s/it]"
     ]
    },
    {
     "name": "stdout",
     "output_type": "stream",
     "text": [
      "in epoch 84 print 1.2705026467641194\n"
     ]
    },
    {
     "name": "stderr",
     "output_type": "stream",
     "text": [
      " 86%|████████▌ | 86/100 [05:36<00:54,  3.90s/it]"
     ]
    },
    {
     "name": "stdout",
     "output_type": "stream",
     "text": [
      "in epoch 85 print 1.2695124348004658\n"
     ]
    },
    {
     "name": "stderr",
     "output_type": "stream",
     "text": [
      " 87%|████████▋ | 87/100 [05:39<00:50,  3.90s/it]"
     ]
    },
    {
     "name": "stdout",
     "output_type": "stream",
     "text": [
      "in epoch 86 print 1.2676873405774434\n"
     ]
    },
    {
     "name": "stderr",
     "output_type": "stream",
     "text": [
      " 88%|████████▊ | 88/100 [05:43<00:47,  3.92s/it]"
     ]
    },
    {
     "name": "stdout",
     "output_type": "stream",
     "text": [
      "in epoch 87 print 1.2693641185760498\n"
     ]
    },
    {
     "name": "stderr",
     "output_type": "stream",
     "text": [
      " 89%|████████▉ | 89/100 [05:47<00:43,  3.94s/it]"
     ]
    },
    {
     "name": "stdout",
     "output_type": "stream",
     "text": [
      "in epoch 88 print 1.272005836168925\n"
     ]
    },
    {
     "name": "stderr",
     "output_type": "stream",
     "text": [
      " 90%|█████████ | 90/100 [05:51<00:39,  3.94s/it]"
     ]
    },
    {
     "name": "stdout",
     "output_type": "stream",
     "text": [
      "in epoch 89 print 1.270485560099284\n"
     ]
    },
    {
     "name": "stderr",
     "output_type": "stream",
     "text": [
      " 91%|█████████ | 91/100 [05:55<00:35,  3.95s/it]"
     ]
    },
    {
     "name": "stdout",
     "output_type": "stream",
     "text": [
      "in epoch 90 print 1.2727814316749573\n"
     ]
    },
    {
     "name": "stderr",
     "output_type": "stream",
     "text": [
      " 92%|█████████▏| 92/100 [05:59<00:31,  3.96s/it]"
     ]
    },
    {
     "name": "stdout",
     "output_type": "stream",
     "text": [
      "in epoch 91 print 1.266348918279012\n"
     ]
    },
    {
     "name": "stderr",
     "output_type": "stream",
     "text": [
      " 93%|█████████▎| 93/100 [06:03<00:27,  3.96s/it]"
     ]
    },
    {
     "name": "stdout",
     "output_type": "stream",
     "text": [
      "in epoch 92 print 1.2729389468828838\n"
     ]
    },
    {
     "name": "stderr",
     "output_type": "stream",
     "text": [
      " 94%|█████████▍| 94/100 [06:07<00:23,  3.96s/it]"
     ]
    },
    {
     "name": "stdout",
     "output_type": "stream",
     "text": [
      "in epoch 93 print 1.2734665473302205\n"
     ]
    },
    {
     "name": "stderr",
     "output_type": "stream",
     "text": [
      " 95%|█████████▌| 95/100 [06:11<00:19,  3.95s/it]"
     ]
    },
    {
     "name": "stdout",
     "output_type": "stream",
     "text": [
      "in epoch 94 print 1.2712154189745586\n"
     ]
    },
    {
     "name": "stderr",
     "output_type": "stream",
     "text": [
      " 96%|█████████▌| 96/100 [06:15<00:15,  3.96s/it]"
     ]
    },
    {
     "name": "stdout",
     "output_type": "stream",
     "text": [
      "in epoch 95 print 1.2677583694458008\n"
     ]
    },
    {
     "name": "stderr",
     "output_type": "stream",
     "text": [
      " 97%|█████████▋| 97/100 [06:19<00:11,  3.96s/it]"
     ]
    },
    {
     "name": "stdout",
     "output_type": "stream",
     "text": [
      "in epoch 96 print 1.2703795433044434\n"
     ]
    },
    {
     "name": "stderr",
     "output_type": "stream",
     "text": [
      " 98%|█████████▊| 98/100 [06:23<00:07,  3.96s/it]"
     ]
    },
    {
     "name": "stdout",
     "output_type": "stream",
     "text": [
      "in epoch 97 print 1.2697831988334656\n"
     ]
    },
    {
     "name": "stderr",
     "output_type": "stream",
     "text": [
      " 99%|█████████▉| 99/100 [06:27<00:03,  3.96s/it]"
     ]
    },
    {
     "name": "stdout",
     "output_type": "stream",
     "text": [
      "in epoch 98 print 1.2711764176686604\n"
     ]
    },
    {
     "name": "stderr",
     "output_type": "stream",
     "text": [
      "100%|██████████| 100/100 [06:31<00:00,  3.91s/it]"
     ]
    },
    {
     "name": "stdout",
     "output_type": "stream",
     "text": [
      "in epoch 99 print 1.2735052704811096\n"
     ]
    },
    {
     "name": "stderr",
     "output_type": "stream",
     "text": [
      "\n"
     ]
    },
    {
     "data": {
      "text/plain": [
       "<Figure size 432x288 with 0 Axes>"
      ]
     },
     "metadata": {},
     "output_type": "display_data"
    },
    {
     "data": {
      "image/png": "[encoded data removed]",
      "text/plain": [
       "<Figure size 432x288 with 1 Axes>"
      ]
     },
     "metadata": {
      "needs_background": "light"
     },
     "output_type": "display_data"
    }
   ],
   "source": [
    "optim = torch.optim.Adam(list(my_dense.parameters())+list(my_lstm.parameters()), lr=0.001)\n",
    "criterion = nn.CrossEntropyLoss().cuda()\n",
    "num_of_epochs=50\n",
    "batch_size=1024\n",
    "steps=len(words_clean)//batch_size\n",
    "gold=Variable(torch.FloatTensor(labels)).cuda()\n",
    "print_every=10\n",
    "plot_every=10\n",
    "# lr_decay=50\n",
    "plot_losses = []\n",
    "for epoch in tqdm(range(num_of_epochs)):\n",
    "#     if epoch %lr_decay==0 and epoch>0:\n",
    "#         learning_rate=learning_rate/10\n",
    "#         optim = torch.optim.Adam(list(my_dense.parameters())+list(my_lstm.parameters()), lr=learning_rate)\n",
    "    epoch_loss=0.0\n",
    "    cnt=0\n",
    "    print_loss_total = 0  # Reset every print_every\n",
    "    plot_loss_total = 0  # Reset every plot_every\n",
    "    epoch_loss=0\n",
    "    \n",
    "    shuffled_indcs=torch.randperm(len(words_clean))\n",
    "    num=0\n",
    "    for s in range(steps):\n",
    "        optim.zero_grad()\n",
    "        input_to_lstm=Variable(torch.zeros(sequence_length,batch_size,input_embedding_size)).cuda()\n",
    "        gold_batch=Variable(torch.zeros(batch_size).long()).cuda()\n",
    "        i=0\n",
    "        \n",
    "        while i<batch_size:\n",
    "            if num==len(words_clean):\n",
    "                num=0\n",
    "            if len(words_clean[shuffled_indcs[num]])<sequence_length:\n",
    "                for j in range( len(words_clean[shuffled_indcs[num]])):\n",
    "                    if words_clean[shuffled_indcs[num].item()][j] in weight_indcs:\n",
    "                        ind=weight_indcs[words_clean[shuffled_indcs[num].item()][j]]\n",
    "                        input_to_lstm[j,i,:]=(torch.cuda.FloatTensor(weights_matrix[ind]))\n",
    "                        \n",
    "                gold_batch[i]=gold[shuffled_indcs[num]]\n",
    "                i +=1\n",
    "            num+=1\n",
    "\n",
    "        hidden_sequence=my_lstm(input_to_lstm)\n",
    "        preds=my_dense(hidden_sequence[0][sequence_length-1])\n",
    "        loss = criterion(preds,gold_batch).cuda()\n",
    "        print_loss_total += loss.item()\n",
    "        plot_loss_total += loss.item()\n",
    "        cnt+=1\n",
    "        epoch_loss += loss.item()\n",
    "        \n",
    "        loss.backward()\n",
    "        optim.step()\n",
    "        \n",
    "        \n",
    "#         if s % print_every == 0:\n",
    "#             print_loss_avg = print_loss_total / cnt\n",
    "#             print_loss_total = 0\n",
    "#             print(\"iter:\",s,\"loss:\", print_loss_avg)\n",
    "\n",
    "        if s % plot_every == 0:\n",
    "            plot_loss_avg = plot_loss_total / cnt\n",
    "            plot_losses.append(plot_loss_avg)\n",
    "            plot_loss_total = 0\n",
    "            cnt=0\n",
    "    print(\"in epoch\", epoch, \"print\", epoch_loss/steps)\n",
    "showPlot(plot_losses)"
   ]
  },
  {
   "cell_type": "code",
   "execution_count": 12,
   "metadata": {},
   "outputs": [
    {
     "name": "stdout",
     "output_type": "stream",
     "text": [
      "accuracy =  0.445\n"
     ]
    }
   ],
   "source": [
    "#validation\n",
    "l=len(words_clean_val)\n",
    "gold_val=Variable(torch.FloatTensor(labels_val)).cuda()\n",
    "input_to_lstm=Variable(torch.zeros(sequence_length,l,input_embedding_size)).cuda()\n",
    "gold_batch=Variable(torch.zeros(l).long()).cuda()\n",
    "for i in range(l):\n",
    "            \n",
    "    if len(words_clean_val[i])<sequence_length:\n",
    "        for j in range(len(words_clean_val[i])):\n",
    "            if words_clean_val[i][j] in weight_indcs:\n",
    "                ind=weight_indcs[words_clean_val[i][j]]\n",
    "                input_to_lstm[j,i,:]=(torch.cuda.FloatTensor(weights_matrix[ind]))\n",
    "\n",
    "        gold_batch[i]=gold_val[i]\n",
    "\n",
    "hidden_sequence=my_lstm(input_to_lstm)\n",
    "preds=my_dense(hidden_sequence[0][sequence_length-1])\n",
    "\n",
    "acc=0\n",
    "for i in range(l):\n",
    "#     print(\"pred:\",preds[i].topk(1).indices.item(),\"label:\", int(gold_val[i].item()))\n",
    "    \n",
    "#     print('\\n')\n",
    "    if preds[i].topk(1).indices.item()==int(gold_val[i].item()):\n",
    "        acc +=1\n",
    "print(\"accuracy = \", acc/l)"
   ]
  },
  {
   "cell_type": "code",
   "execution_count": null,
   "metadata": {},
   "outputs": [],
   "source": []
  },
  {
   "cell_type": "code",
   "execution_count": null,
   "metadata": {},
   "outputs": [],
   "source": []
  }
 ],
 "metadata": {
  "kernelspec": {
   "display_name": "Python 3",
   "language": "python",
   "name": "python3"
  },
  "language_info": {
   "codemirror_mode": {
    "name": "ipython",
    "version": 3
   },
   "file_extension": ".py",
   "mimetype": "text/x-python",
   "name": "python",
   "nbconvert_exporter": "python",
   "pygments_lexer": "ipython3",
   "version": "3.7.3"
  }
 },
 "nbformat": 4,
 "nbformat_minor": 4
}
